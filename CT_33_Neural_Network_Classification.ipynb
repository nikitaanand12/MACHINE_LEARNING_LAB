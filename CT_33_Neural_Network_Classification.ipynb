{
  "nbformat": 4,
  "nbformat_minor": 0,
  "metadata": {
    "colab": {
      "name": "CT-33_Neural_Network_Classification.ipynb",
      "provenance": [],
      "collapsed_sections": [],
      "include_colab_link": true
    },
    "kernelspec": {
      "name": "python3",
      "display_name": "Python 3"
    },
    "language_info": {
      "name": "python"
    }
  },
  "cells": [
    {
      "cell_type": "markdown",
      "metadata": {
        "id": "view-in-github",
        "colab_type": "text"
      },
      "source": [
        "<a href=\"https://colab.research.google.com/github/nikitaanand12/MACHINE_LEARNING_LAB/blob/main/CT_33_Neural_Network_Classification.ipynb\" target=\"_parent\"><img src=\"https://colab.research.google.com/assets/colab-badge.svg\" alt=\"Open In Colab\"/></a>"
      ]
    },
    {
      "cell_type": "markdown",
      "metadata": {
        "id": "nhPEM4IUoDKA"
      },
      "source": [
        "CO CST IMPLEMENTATION OF NEURAL NETWORK\n",
        "\n"
      ]
    },
    {
      "cell_type": "code",
      "source": [
        ""
      ],
      "metadata": {
        "id": "bDN6Un_6rAR9"
      },
      "execution_count": 27,
      "outputs": []
    },
    {
      "cell_type": "markdown",
      "metadata": {
        "id": "ZpJe0cAaoG98"
      },
      "source": [
        "# Tutorial 3: Neural Network Classification"
      ]
    },
    {
      "cell_type": "markdown",
      "metadata": {
        "id": "dIT7QrK2PwdM"
      },
      "source": [
        "Dataset: [Pima Indian Diabetes Dataset](https://data.world/data-society/pima-indians-diabetes-database#)\n",
        "\n",
        "This dataset is originally from the National Institute of Diabetes and Digestive and Kidney Diseases. The objective is to predict based on diagnostic measurements whether a patient has diabetes.\n",
        "\n",
        "Several constraints were placed on the selection of these instances from a larger database. In particular, all patients here are females at least 21 years old of Pima Indian heritage.\n",
        "\n",
        "Attributes of PIMA dataset:\n",
        "\n",
        "**Pregnancies**: Number of times pregnant\n",
        "\n",
        "**Glucose**: Plasma glucose concentration a 2 hours in an oral glucose tolerance test\n",
        "\n",
        "**BloodPressure**: Diastolic blood pressure (mm Hg)\n",
        "\n",
        "**SkinThickness**: Triceps skin fold thickness (mm)\n",
        "\n",
        "**Insulin**: 2-Hour serum insulin (mu U/ml)\n",
        "\n",
        "**BMI**: Body mass index (weight in kg/(height in m)^2)\n",
        "\n",
        "**DiabetesPedigreeFunction**: Diabetes pedigree function\n",
        "\n",
        "**Age**: Age (years)\n",
        "\n",
        "**Outcome**: Class variable (0 or 1)"
      ]
    },
    {
      "cell_type": "markdown",
      "metadata": {
        "id": "FIAgs3sTY712"
      },
      "source": [
        "**1. Mount the Google Drive**"
      ]
    },
    {
      "cell_type": "code",
      "metadata": {
        "id": "CrZg_G5MQ4L5",
        "colab": {
          "base_uri": "https://localhost:8080/"
        },
        "outputId": "2909080a-a2fb-44fb-bfd6-f070b1efe87a"
      },
      "source": [
        "from google.colab import drive\n",
        "drive.mount('/content/drive')"
      ],
      "execution_count": 28,
      "outputs": [
        {
          "output_type": "stream",
          "name": "stdout",
          "text": [
            "Drive already mounted at /content/drive; to attempt to forcibly remount, call drive.mount(\"/content/drive\", force_remount=True).\n"
          ]
        }
      ]
    },
    {
      "cell_type": "markdown",
      "metadata": {
        "id": "CqAhYoWHZAwg"
      },
      "source": [
        "**2. Move to the place where data resides**"
      ]
    },
    {
      "cell_type": "code",
      "metadata": {
        "colab": {
          "base_uri": "https://localhost:8080/"
        },
        "id": "TjgG_3CiP4eQ",
        "outputId": "7af1be53-9f24-4477-8c73-94185d9c9338"
      },
      "source": [
        "%cd /content/drive/MyDrive"
      ],
      "execution_count": 29,
      "outputs": [
        {
          "output_type": "stream",
          "name": "stdout",
          "text": [
            "/content/drive/MyDrive\n"
          ]
        }
      ]
    },
    {
      "cell_type": "code",
      "source": [
        "!ls"
      ],
      "metadata": {
        "id": "S-KhHH_xATY8",
        "colab": {
          "base_uri": "https://localhost:8080/"
        },
        "outputId": "a60aa430-7984-4ab7-d32c-7cc6324a49af"
      },
      "execution_count": 30,
      "outputs": [
        {
          "output_type": "stream",
          "name": "stdout",
          "text": [
            "'Anti ragging form.pdf'\n",
            "'Assignment No_01.ipynb'\n",
            "'CamScanner 05-27-2020 15.50.29.pdf'\n",
            "'CamScanner 05-28-2020 16.36.12.pdf'\n",
            "'CASE STUDY OF R CT-48.docx'\n",
            " Classroom\n",
            "'CN Assignment_01_CT-33.pdf'\n",
            "'Colab Notebooks'\n",
            "'COMPUTER  WORKSHOP ASSIGNMENT.docx'\n",
            "'COMPUTER WORKSHOP PRACTICALS (1).docx'\n",
            "'COMPUTER WORKSHOP PRACTICALS.docx'\n",
            " custom_trainvalacc.png\n",
            " custom_trainvalloss.png\n",
            "'Cybersecurity_Foundation_Student_Certificate_Nikita Anand.pdf'\n",
            " diabetes.csv\n",
            "'Digital circuit Design,CS 3003, lab manual.gdoc'\n",
            "'DIGITAL SYSTEM LAB FILE.pdf'\n",
            "'Discrete Structure (Assignment No. 2).pdf'\n",
            "'Discrete Structure (Assignment No. 3).pdf'\n",
            "'DS File-CT-48.docx'\n",
            "'DS Lab file.docx'\n",
            "'Getting started.pdf'\n",
            " IT-WORKSHOP-LAB.gdoc\n",
            " IT-WORKSHOP-LAB.pdf\n",
            "'IWT Assignment 03_0827CT191033'\n",
            " Kaggle_import_Dataset.ipynb\n",
            "'Linear Regression .ipynb'\n",
            " LinearRegression_with_csv.ipynb\n",
            "'LINUX LAB_CT-33'\n",
            "'MINOR _PROJECT_PROGRESS_REPORT'\n",
            " MINOR_PROJECT_SYNOPSIS.docx\n",
            " Ml_Basics_II.ipynb\n",
            " ML_BASICS_I.ipynb\n",
            "'ML Basics.ipynb'\n",
            "'Module 2 Ecosystem.gslides'\n",
            "'New Doc 2020-04-17 12.04.16.pdf'\n",
            "'New Doc 2020-12-28 11.13.45_FlashScan.pdf'\n",
            "'Nikita Anand(033).pdf'\n",
            "'Nikita Anand (0827CT191033) Mealy Lab assign 03.docx'\n",
            "'Nikita Anand (CT-33) MST-1.docx'\n",
            " NikitaJI.r\n",
            " Screenshot_2021-12-30-00-40-04-15_99c04817c0de5652397fc8b56c3b3817.jpg\n",
            "'Share COMPUTER WORKSHOP PRACTICALS.docx'\n",
            "'Simran Documemt'\n",
            "'space exploration_1.jpg'\n",
            " Untitled0.ipynb\n",
            " Untitled1.ipynb\n"
          ]
        }
      ]
    },
    {
      "cell_type": "code",
      "source": [
        ""
      ],
      "metadata": {
        "id": "f65jHMx2I_1O"
      },
      "execution_count": 30,
      "outputs": []
    },
    {
      "cell_type": "markdown",
      "metadata": {
        "id": "VKvfswsOZLUB"
      },
      "source": [
        "**3. Read the dataset from CSV file**"
      ]
    },
    {
      "cell_type": "code",
      "metadata": {
        "colab": {
          "base_uri": "https://localhost:8080/",
          "height": 363
        },
        "id": "32nNonRSSaQq",
        "outputId": "762209b9-9e2c-40b2-c187-5593b322f290"
      },
      "source": [
        "import pandas as pd\n",
        "data = pd.read_csv('diabetes.csv')\n",
        "data.head(10)"
      ],
      "execution_count": 31,
      "outputs": [
        {
          "output_type": "execute_result",
          "data": {
            "text/plain": [
              "   Pregnancies  Glucose  BloodPressure  SkinThickness  Insulin   BMI  \\\n",
              "0            6      148             72             35        0  33.6   \n",
              "1            1       85             66             29        0  26.6   \n",
              "2            8      183             64              0        0  23.3   \n",
              "3            1       89             66             23       94  28.1   \n",
              "4            0      137             40             35      168  43.1   \n",
              "5            5      116             74              0        0  25.6   \n",
              "6            3       78             50             32       88  31.0   \n",
              "7           10      115              0              0        0  35.3   \n",
              "8            2      197             70             45      543  30.5   \n",
              "9            8      125             96              0        0   0.0   \n",
              "\n",
              "   DiabetesPedigreeFunction  Age  Outcome  \n",
              "0                     0.627   50        1  \n",
              "1                     0.351   31        0  \n",
              "2                     0.672   32        1  \n",
              "3                     0.167   21        0  \n",
              "4                     2.288   33        1  \n",
              "5                     0.201   30        0  \n",
              "6                     0.248   26        1  \n",
              "7                     0.134   29        0  \n",
              "8                     0.158   53        1  \n",
              "9                     0.232   54        1  "
            ],
            "text/html": [
              "\n",
              "  <div id=\"df-629d25ec-3ddf-48e1-8fed-c471e6b9dcdf\">\n",
              "    <div class=\"colab-df-container\">\n",
              "      <div>\n",
              "<style scoped>\n",
              "    .dataframe tbody tr th:only-of-type {\n",
              "        vertical-align: middle;\n",
              "    }\n",
              "\n",
              "    .dataframe tbody tr th {\n",
              "        vertical-align: top;\n",
              "    }\n",
              "\n",
              "    .dataframe thead th {\n",
              "        text-align: right;\n",
              "    }\n",
              "</style>\n",
              "<table border=\"1\" class=\"dataframe\">\n",
              "  <thead>\n",
              "    <tr style=\"text-align: right;\">\n",
              "      <th></th>\n",
              "      <th>Pregnancies</th>\n",
              "      <th>Glucose</th>\n",
              "      <th>BloodPressure</th>\n",
              "      <th>SkinThickness</th>\n",
              "      <th>Insulin</th>\n",
              "      <th>BMI</th>\n",
              "      <th>DiabetesPedigreeFunction</th>\n",
              "      <th>Age</th>\n",
              "      <th>Outcome</th>\n",
              "    </tr>\n",
              "  </thead>\n",
              "  <tbody>\n",
              "    <tr>\n",
              "      <th>0</th>\n",
              "      <td>6</td>\n",
              "      <td>148</td>\n",
              "      <td>72</td>\n",
              "      <td>35</td>\n",
              "      <td>0</td>\n",
              "      <td>33.6</td>\n",
              "      <td>0.627</td>\n",
              "      <td>50</td>\n",
              "      <td>1</td>\n",
              "    </tr>\n",
              "    <tr>\n",
              "      <th>1</th>\n",
              "      <td>1</td>\n",
              "      <td>85</td>\n",
              "      <td>66</td>\n",
              "      <td>29</td>\n",
              "      <td>0</td>\n",
              "      <td>26.6</td>\n",
              "      <td>0.351</td>\n",
              "      <td>31</td>\n",
              "      <td>0</td>\n",
              "    </tr>\n",
              "    <tr>\n",
              "      <th>2</th>\n",
              "      <td>8</td>\n",
              "      <td>183</td>\n",
              "      <td>64</td>\n",
              "      <td>0</td>\n",
              "      <td>0</td>\n",
              "      <td>23.3</td>\n",
              "      <td>0.672</td>\n",
              "      <td>32</td>\n",
              "      <td>1</td>\n",
              "    </tr>\n",
              "    <tr>\n",
              "      <th>3</th>\n",
              "      <td>1</td>\n",
              "      <td>89</td>\n",
              "      <td>66</td>\n",
              "      <td>23</td>\n",
              "      <td>94</td>\n",
              "      <td>28.1</td>\n",
              "      <td>0.167</td>\n",
              "      <td>21</td>\n",
              "      <td>0</td>\n",
              "    </tr>\n",
              "    <tr>\n",
              "      <th>4</th>\n",
              "      <td>0</td>\n",
              "      <td>137</td>\n",
              "      <td>40</td>\n",
              "      <td>35</td>\n",
              "      <td>168</td>\n",
              "      <td>43.1</td>\n",
              "      <td>2.288</td>\n",
              "      <td>33</td>\n",
              "      <td>1</td>\n",
              "    </tr>\n",
              "    <tr>\n",
              "      <th>5</th>\n",
              "      <td>5</td>\n",
              "      <td>116</td>\n",
              "      <td>74</td>\n",
              "      <td>0</td>\n",
              "      <td>0</td>\n",
              "      <td>25.6</td>\n",
              "      <td>0.201</td>\n",
              "      <td>30</td>\n",
              "      <td>0</td>\n",
              "    </tr>\n",
              "    <tr>\n",
              "      <th>6</th>\n",
              "      <td>3</td>\n",
              "      <td>78</td>\n",
              "      <td>50</td>\n",
              "      <td>32</td>\n",
              "      <td>88</td>\n",
              "      <td>31.0</td>\n",
              "      <td>0.248</td>\n",
              "      <td>26</td>\n",
              "      <td>1</td>\n",
              "    </tr>\n",
              "    <tr>\n",
              "      <th>7</th>\n",
              "      <td>10</td>\n",
              "      <td>115</td>\n",
              "      <td>0</td>\n",
              "      <td>0</td>\n",
              "      <td>0</td>\n",
              "      <td>35.3</td>\n",
              "      <td>0.134</td>\n",
              "      <td>29</td>\n",
              "      <td>0</td>\n",
              "    </tr>\n",
              "    <tr>\n",
              "      <th>8</th>\n",
              "      <td>2</td>\n",
              "      <td>197</td>\n",
              "      <td>70</td>\n",
              "      <td>45</td>\n",
              "      <td>543</td>\n",
              "      <td>30.5</td>\n",
              "      <td>0.158</td>\n",
              "      <td>53</td>\n",
              "      <td>1</td>\n",
              "    </tr>\n",
              "    <tr>\n",
              "      <th>9</th>\n",
              "      <td>8</td>\n",
              "      <td>125</td>\n",
              "      <td>96</td>\n",
              "      <td>0</td>\n",
              "      <td>0</td>\n",
              "      <td>0.0</td>\n",
              "      <td>0.232</td>\n",
              "      <td>54</td>\n",
              "      <td>1</td>\n",
              "    </tr>\n",
              "  </tbody>\n",
              "</table>\n",
              "</div>\n",
              "      <button class=\"colab-df-convert\" onclick=\"convertToInteractive('df-629d25ec-3ddf-48e1-8fed-c471e6b9dcdf')\"\n",
              "              title=\"Convert this dataframe to an interactive table.\"\n",
              "              style=\"display:none;\">\n",
              "        \n",
              "  <svg xmlns=\"http://www.w3.org/2000/svg\" height=\"24px\"viewBox=\"0 0 24 24\"\n",
              "       width=\"24px\">\n",
              "    <path d=\"M0 0h24v24H0V0z\" fill=\"none\"/>\n",
              "    <path d=\"M18.56 5.44l.94 2.06.94-2.06 2.06-.94-2.06-.94-.94-2.06-.94 2.06-2.06.94zm-11 1L8.5 8.5l.94-2.06 2.06-.94-2.06-.94L8.5 2.5l-.94 2.06-2.06.94zm10 10l.94 2.06.94-2.06 2.06-.94-2.06-.94-.94-2.06-.94 2.06-2.06.94z\"/><path d=\"M17.41 7.96l-1.37-1.37c-.4-.4-.92-.59-1.43-.59-.52 0-1.04.2-1.43.59L10.3 9.45l-7.72 7.72c-.78.78-.78 2.05 0 2.83L4 21.41c.39.39.9.59 1.41.59.51 0 1.02-.2 1.41-.59l7.78-7.78 2.81-2.81c.8-.78.8-2.07 0-2.86zM5.41 20L4 18.59l7.72-7.72 1.47 1.35L5.41 20z\"/>\n",
              "  </svg>\n",
              "      </button>\n",
              "      \n",
              "  <style>\n",
              "    .colab-df-container {\n",
              "      display:flex;\n",
              "      flex-wrap:wrap;\n",
              "      gap: 12px;\n",
              "    }\n",
              "\n",
              "    .colab-df-convert {\n",
              "      background-color: #E8F0FE;\n",
              "      border: none;\n",
              "      border-radius: 50%;\n",
              "      cursor: pointer;\n",
              "      display: none;\n",
              "      fill: #1967D2;\n",
              "      height: 32px;\n",
              "      padding: 0 0 0 0;\n",
              "      width: 32px;\n",
              "    }\n",
              "\n",
              "    .colab-df-convert:hover {\n",
              "      background-color: #E2EBFA;\n",
              "      box-shadow: 0px 1px 2px rgba(60, 64, 67, 0.3), 0px 1px 3px 1px rgba(60, 64, 67, 0.15);\n",
              "      fill: #174EA6;\n",
              "    }\n",
              "\n",
              "    [theme=dark] .colab-df-convert {\n",
              "      background-color: #3B4455;\n",
              "      fill: #D2E3FC;\n",
              "    }\n",
              "\n",
              "    [theme=dark] .colab-df-convert:hover {\n",
              "      background-color: #434B5C;\n",
              "      box-shadow: 0px 1px 3px 1px rgba(0, 0, 0, 0.15);\n",
              "      filter: drop-shadow(0px 1px 2px rgba(0, 0, 0, 0.3));\n",
              "      fill: #FFFFFF;\n",
              "    }\n",
              "  </style>\n",
              "\n",
              "      <script>\n",
              "        const buttonEl =\n",
              "          document.querySelector('#df-629d25ec-3ddf-48e1-8fed-c471e6b9dcdf button.colab-df-convert');\n",
              "        buttonEl.style.display =\n",
              "          google.colab.kernel.accessAllowed ? 'block' : 'none';\n",
              "\n",
              "        async function convertToInteractive(key) {\n",
              "          const element = document.querySelector('#df-629d25ec-3ddf-48e1-8fed-c471e6b9dcdf');\n",
              "          const dataTable =\n",
              "            await google.colab.kernel.invokeFunction('convertToInteractive',\n",
              "                                                     [key], {});\n",
              "          if (!dataTable) return;\n",
              "\n",
              "          const docLinkHtml = 'Like what you see? Visit the ' +\n",
              "            '<a target=\"_blank\" href=https://colab.research.google.com/notebooks/data_table.ipynb>data table notebook</a>'\n",
              "            + ' to learn more about interactive tables.';\n",
              "          element.innerHTML = '';\n",
              "          dataTable['output_type'] = 'display_data';\n",
              "          await google.colab.output.renderOutput(dataTable, element);\n",
              "          const docLink = document.createElement('div');\n",
              "          docLink.innerHTML = docLinkHtml;\n",
              "          element.appendChild(docLink);\n",
              "        }\n",
              "      </script>\n",
              "    </div>\n",
              "  </div>\n",
              "  "
            ]
          },
          "metadata": {},
          "execution_count": 31
        }
      ]
    },
    {
      "cell_type": "code",
      "metadata": {
        "colab": {
          "base_uri": "https://localhost:8080/"
        },
        "id": "ZrslDLESShr7",
        "outputId": "65853b5d-3a75-4be1-c3e4-c30175a29861"
      },
      "source": [
        "data.columns"
      ],
      "execution_count": 32,
      "outputs": [
        {
          "output_type": "execute_result",
          "data": {
            "text/plain": [
              "Index(['Pregnancies', 'Glucose', 'BloodPressure', 'SkinThickness', 'Insulin',\n",
              "       'BMI', 'DiabetesPedigreeFunction', 'Age', 'Outcome'],\n",
              "      dtype='object')"
            ]
          },
          "metadata": {},
          "execution_count": 32
        }
      ]
    },
    {
      "cell_type": "code",
      "metadata": {
        "colab": {
          "base_uri": "https://localhost:8080/"
        },
        "id": "BLElehZ-Skgq",
        "outputId": "08de318f-b4a0-418d-b852-cd48ead7519b"
      },
      "source": [
        "data.values"
      ],
      "execution_count": 33,
      "outputs": [
        {
          "output_type": "execute_result",
          "data": {
            "text/plain": [
              "array([[  6.   , 148.   ,  72.   , ...,   0.627,  50.   ,   1.   ],\n",
              "       [  1.   ,  85.   ,  66.   , ...,   0.351,  31.   ,   0.   ],\n",
              "       [  8.   , 183.   ,  64.   , ...,   0.672,  32.   ,   1.   ],\n",
              "       ...,\n",
              "       [  5.   , 121.   ,  72.   , ...,   0.245,  30.   ,   0.   ],\n",
              "       [  1.   , 126.   ,  60.   , ...,   0.349,  47.   ,   1.   ],\n",
              "       [  1.   ,  93.   ,  70.   , ...,   0.315,  23.   ,   0.   ]])"
            ]
          },
          "metadata": {},
          "execution_count": 33
        }
      ]
    },
    {
      "cell_type": "markdown",
      "metadata": {
        "id": "2HnZxGc4ZQlf"
      },
      "source": [
        "**4. Store the data into input feature and label variables**"
      ]
    },
    {
      "cell_type": "code",
      "metadata": {
        "colab": {
          "base_uri": "https://localhost:8080/"
        },
        "id": "IPfA5BF0Sm4R",
        "outputId": "c824aff6-5af9-4d14-f16c-3b07b90115fa"
      },
      "source": [
        "dataset= data.values\n",
        "X = dataset[:,0:8]\n",
        "Y = dataset[:,8]\n",
        "print(X)\n",
        "print(Y)"
      ],
      "execution_count": 34,
      "outputs": [
        {
          "output_type": "stream",
          "name": "stdout",
          "text": [
            "[[  6.    148.     72.    ...  33.6     0.627  50.   ]\n",
            " [  1.     85.     66.    ...  26.6     0.351  31.   ]\n",
            " [  8.    183.     64.    ...  23.3     0.672  32.   ]\n",
            " ...\n",
            " [  5.    121.     72.    ...  26.2     0.245  30.   ]\n",
            " [  1.    126.     60.    ...  30.1     0.349  47.   ]\n",
            " [  1.     93.     70.    ...  30.4     0.315  23.   ]]\n",
            "[1. 0. 1. 0. 1. 0. 1. 0. 1. 1. 0. 1. 0. 1. 1. 1. 1. 1. 0. 1. 0. 0. 1. 1.\n",
            " 1. 1. 1. 0. 0. 0. 0. 1. 0. 0. 0. 0. 0. 1. 1. 1. 0. 0. 0. 1. 0. 1. 0. 0.\n",
            " 1. 0. 0. 0. 0. 1. 0. 0. 1. 0. 0. 0. 0. 1. 0. 0. 1. 0. 1. 0. 0. 0. 1. 0.\n",
            " 1. 0. 0. 0. 0. 0. 1. 0. 0. 0. 0. 0. 1. 0. 0. 0. 1. 0. 0. 0. 0. 1. 0. 0.\n",
            " 0. 0. 0. 1. 1. 0. 0. 0. 0. 0. 0. 0. 0. 1. 1. 1. 0. 0. 1. 1. 1. 0. 0. 0.\n",
            " 1. 0. 0. 0. 1. 1. 0. 0. 1. 1. 1. 1. 1. 0. 0. 0. 0. 0. 0. 0. 0. 0. 0. 1.\n",
            " 0. 0. 0. 0. 0. 0. 0. 0. 1. 0. 1. 1. 0. 0. 0. 1. 0. 0. 0. 0. 1. 1. 0. 0.\n",
            " 0. 0. 1. 1. 0. 0. 0. 1. 0. 1. 0. 1. 0. 0. 0. 0. 0. 1. 1. 1. 1. 1. 0. 0.\n",
            " 1. 1. 0. 1. 0. 1. 1. 1. 0. 0. 0. 0. 0. 0. 1. 1. 0. 1. 0. 0. 0. 1. 1. 1.\n",
            " 1. 0. 1. 1. 1. 1. 0. 0. 0. 0. 0. 1. 0. 0. 1. 1. 0. 0. 0. 1. 1. 1. 1. 0.\n",
            " 0. 0. 1. 1. 0. 1. 0. 0. 0. 0. 0. 0. 0. 0. 1. 1. 0. 0. 0. 1. 0. 1. 0. 0.\n",
            " 1. 0. 1. 0. 0. 1. 1. 0. 0. 0. 0. 0. 1. 0. 0. 0. 1. 0. 0. 1. 1. 0. 0. 1.\n",
            " 0. 0. 0. 1. 1. 1. 0. 0. 1. 0. 1. 0. 1. 1. 0. 1. 0. 0. 1. 0. 1. 1. 0. 0.\n",
            " 1. 0. 1. 0. 0. 1. 0. 1. 0. 1. 1. 1. 0. 0. 1. 0. 1. 0. 0. 0. 1. 0. 0. 0.\n",
            " 0. 1. 1. 1. 0. 0. 0. 0. 0. 0. 0. 0. 0. 1. 0. 0. 0. 0. 0. 1. 1. 1. 0. 1.\n",
            " 1. 0. 0. 1. 0. 0. 1. 0. 0. 1. 1. 0. 0. 0. 0. 1. 0. 0. 1. 0. 0. 0. 0. 0.\n",
            " 0. 0. 1. 1. 1. 0. 0. 1. 0. 0. 1. 0. 0. 1. 0. 1. 1. 0. 1. 0. 1. 0. 1. 0.\n",
            " 1. 1. 0. 0. 0. 0. 1. 1. 0. 1. 0. 1. 0. 0. 0. 0. 1. 1. 0. 1. 0. 1. 0. 0.\n",
            " 0. 0. 0. 1. 0. 0. 0. 0. 1. 0. 0. 1. 1. 1. 0. 0. 1. 0. 0. 1. 0. 0. 0. 1.\n",
            " 0. 0. 1. 0. 0. 0. 0. 0. 0. 0. 0. 0. 1. 0. 0. 0. 0. 0. 0. 0. 1. 0. 0. 0.\n",
            " 1. 0. 0. 0. 1. 1. 0. 0. 0. 0. 0. 0. 0. 1. 0. 0. 0. 0. 1. 0. 0. 0. 1. 0.\n",
            " 0. 0. 1. 0. 0. 0. 1. 0. 0. 0. 0. 1. 1. 0. 0. 0. 0. 0. 0. 1. 0. 0. 0. 0.\n",
            " 0. 0. 0. 0. 0. 0. 0. 1. 0. 0. 0. 1. 1. 1. 1. 0. 0. 1. 1. 0. 0. 0. 0. 0.\n",
            " 0. 0. 0. 0. 0. 0. 0. 0. 1. 1. 0. 0. 0. 0. 0. 0. 0. 1. 0. 0. 0. 0. 0. 0.\n",
            " 0. 1. 0. 1. 1. 0. 0. 0. 1. 0. 1. 0. 1. 0. 1. 0. 1. 0. 0. 1. 0. 0. 1. 0.\n",
            " 0. 0. 0. 1. 1. 0. 1. 0. 0. 0. 0. 1. 1. 0. 1. 0. 0. 0. 1. 1. 0. 0. 0. 0.\n",
            " 0. 0. 0. 0. 0. 0. 1. 0. 0. 0. 0. 1. 0. 0. 1. 0. 0. 0. 1. 0. 0. 0. 1. 1.\n",
            " 1. 0. 0. 0. 0. 0. 0. 1. 0. 0. 0. 1. 0. 1. 1. 1. 1. 0. 1. 1. 0. 0. 0. 0.\n",
            " 0. 0. 0. 1. 1. 0. 1. 0. 0. 1. 0. 1. 0. 0. 0. 0. 0. 1. 0. 1. 0. 1. 0. 1.\n",
            " 1. 0. 0. 0. 0. 1. 1. 0. 0. 0. 1. 0. 1. 1. 0. 0. 1. 0. 0. 1. 1. 0. 0. 1.\n",
            " 0. 0. 1. 0. 0. 0. 0. 0. 0. 0. 1. 1. 1. 0. 0. 0. 0. 0. 0. 1. 1. 0. 0. 1.\n",
            " 0. 0. 1. 0. 1. 1. 1. 0. 0. 1. 1. 1. 0. 1. 0. 1. 0. 1. 0. 0. 0. 0. 1. 0.]\n"
          ]
        }
      ]
    },
    {
      "cell_type": "markdown",
      "metadata": {
        "id": "OdPZerNUZV4Q"
      },
      "source": [
        "**5. Data Normalization**"
      ]
    },
    {
      "cell_type": "code",
      "metadata": {
        "colab": {
          "base_uri": "https://localhost:8080/"
        },
        "id": "pM4g3T1fWri-",
        "outputId": "e873576a-0dc2-4be9-b748-977760fda437"
      },
      "source": [
        "from sklearn import preprocessing\n",
        "min_max_scaler = preprocessing.MinMaxScaler()\n",
        "X_scale = min_max_scaler.fit_transform(X)\n",
        "X_scale"
      ],
      "execution_count": 35,
      "outputs": [
        {
          "output_type": "execute_result",
          "data": {
            "text/plain": [
              "array([[0.35294118, 0.74371859, 0.59016393, ..., 0.50074516, 0.23441503,\n",
              "        0.48333333],\n",
              "       [0.05882353, 0.42713568, 0.54098361, ..., 0.39642325, 0.11656704,\n",
              "        0.16666667],\n",
              "       [0.47058824, 0.91959799, 0.52459016, ..., 0.34724292, 0.25362938,\n",
              "        0.18333333],\n",
              "       ...,\n",
              "       [0.29411765, 0.6080402 , 0.59016393, ..., 0.390462  , 0.07130658,\n",
              "        0.15      ],\n",
              "       [0.05882353, 0.63316583, 0.49180328, ..., 0.4485842 , 0.11571307,\n",
              "        0.43333333],\n",
              "       [0.05882353, 0.46733668, 0.57377049, ..., 0.45305514, 0.10119556,\n",
              "        0.03333333]])"
            ]
          },
          "metadata": {},
          "execution_count": 35
        }
      ]
    },
    {
      "cell_type": "markdown",
      "metadata": {
        "id": "n1B5x8C0ZY-e"
      },
      "source": [
        "**6. One-hot vector conversion**"
      ]
    },
    {
      "cell_type": "code",
      "metadata": {
        "colab": {
          "base_uri": "https://localhost:8080/"
        },
        "id": "IWPUAnA-XNd8",
        "outputId": "41986c24-72d3-4ffa-c308-ba885f6f274d"
      },
      "source": [
        "from keras.utils import np_utils\n",
        "encoded_y = np_utils.to_categorical(Y)\n",
        "encoded_y    #one hot encoding"
      ],
      "execution_count": 36,
      "outputs": [
        {
          "output_type": "execute_result",
          "data": {
            "text/plain": [
              "array([[0., 1.],\n",
              "       [1., 0.],\n",
              "       [0., 1.],\n",
              "       ...,\n",
              "       [1., 0.],\n",
              "       [0., 1.],\n",
              "       [1., 0.]], dtype=float32)"
            ]
          },
          "metadata": {},
          "execution_count": 36
        }
      ]
    },
    {
      "cell_type": "markdown",
      "metadata": {
        "id": "IeJWmMxjZbgo"
      },
      "source": [
        "**7. Split the dataset into training, testing and validation set**"
      ]
    },
    {
      "cell_type": "code",
      "metadata": {
        "colab": {
          "base_uri": "https://localhost:8080/"
        },
        "id": "3BqXnV1FXYIV",
        "outputId": "d0f54f3c-cde8-4747-aca1-e36333bf586d"
      },
      "source": [
        "from sklearn.model_selection import train_test_split\n",
        "X_training, X_testing, Y_training, Y_testing = train_test_split(X_scale, encoded_y, test_size=2, random_state=10)\n",
        "X_training, X_valid, Y_training, Y_valid = train_test_split(X_training, Y_training, test_size=2, random_state=10)\n",
        "print(len(X_training))\n",
        "print(len(X_testing))\n",
        "print(len(X_valid))"
      ],
      "execution_count": 37,
      "outputs": [
        {
          "output_type": "stream",
          "name": "stdout",
          "text": [
            "764\n",
            "2\n",
            "2\n"
          ]
        }
      ]
    },
    {
      "cell_type": "markdown",
      "metadata": {
        "id": "EH9IZizVZfKB"
      },
      "source": [
        "**8. Model Creation**"
      ]
    },
    {
      "cell_type": "code",
      "metadata": {
        "id": "hNfmvbMOXeku",
        "colab": {
          "base_uri": "https://localhost:8080/"
        },
        "outputId": "737231b1-d9a7-4843-c8d8-610648c221ec"
      },
      "source": [
        "from keras.models import Sequential\n",
        "from keras.layers import Dense\n",
        "\n",
        "# Creating the model\n",
        "model = Sequential()  #sequential is a model\n",
        "model.add(Dense(26, input_shape=(8,), activation='relu'))\n",
        "model.add(Dense(15, activation='relu'))\n",
        "model.add(Dense(15, activation='tanh'))\n",
        "# model.add(Dense(8, activation='relu'))   \n",
        "model.add(Dense(2, activation='softmax'))\n",
        "model.summary()   #gives a summary of the model"
      ],
      "execution_count": 38,
      "outputs": [
        {
          "output_type": "stream",
          "name": "stdout",
          "text": [
            "Model: \"sequential_4\"\n",
            "_________________________________________________________________\n",
            " Layer (type)                Output Shape              Param #   \n",
            "=================================================================\n",
            " dense_17 (Dense)            (None, 26)                234       \n",
            "                                                                 \n",
            " dense_18 (Dense)            (None, 15)                405       \n",
            "                                                                 \n",
            " dense_19 (Dense)            (None, 15)                240       \n",
            "                                                                 \n",
            " dense_20 (Dense)            (None, 2)                 32        \n",
            "                                                                 \n",
            "=================================================================\n",
            "Total params: 911\n",
            "Trainable params: 911\n",
            "Non-trainable params: 0\n",
            "_________________________________________________________________\n"
          ]
        }
      ]
    },
    {
      "cell_type": "markdown",
      "metadata": {
        "id": "iYxZHI_EZiEF"
      },
      "source": [
        "**9. Model Compile**"
      ]
    },
    {
      "cell_type": "code",
      "metadata": {
        "id": "plF2qlxwXiIY"
      },
      "source": [
        "from tensorflow.keras import optimizers\n",
        "opt=optimizers.SGD(learning_rate=0.01)\n",
        "model.compile(loss='categorical_crossentropy', optimizer=opt, metrics=['accuracy'])"
      ],
      "execution_count": 39,
      "outputs": []
    },
    {
      "cell_type": "markdown",
      "metadata": {
        "id": "E8VrUFVQZkNd"
      },
      "source": [
        "**10. Model Training**"
      ]
    },
    {
      "cell_type": "markdown",
      "source": [
        "if you have 1000 training examples, and your batch size is  500, then it will take 2 iterations to complete 1 epoch."
      ],
      "metadata": {
        "id": "08Ul5lN90_Sp"
      }
    },
    {
      "cell_type": "code",
      "metadata": {
        "colab": {
          "base_uri": "https://localhost:8080/"
        },
        "id": "xhDZ8yPhXrs0",
        "outputId": "79ef53de-c613-486e-e9a6-06edf9fd4aee"
      },
      "source": [
        "hist = model.fit(X_training, Y_training,batch_size=2,  epochs=350, validation_data=(X_valid,Y_valid))"
      ],
      "execution_count": 40,
      "outputs": [
        {
          "output_type": "stream",
          "name": "stdout",
          "text": [
            "Epoch 1/350\n",
            "382/382 [==============================] - 1s 2ms/step - loss: 0.6395 - accuracy: 0.6309 - val_loss: 0.4632 - val_accuracy: 1.0000\n",
            "Epoch 2/350\n",
            "382/382 [==============================] - 1s 1ms/step - loss: 0.6009 - accuracy: 0.6505 - val_loss: 0.3548 - val_accuracy: 1.0000\n",
            "Epoch 3/350\n",
            "382/382 [==============================] - 1s 2ms/step - loss: 0.5682 - accuracy: 0.6924 - val_loss: 0.6839 - val_accuracy: 0.5000\n",
            "Epoch 4/350\n",
            "382/382 [==============================] - 1s 2ms/step - loss: 0.5364 - accuracy: 0.7330 - val_loss: 0.5887 - val_accuracy: 0.5000\n",
            "Epoch 5/350\n",
            "382/382 [==============================] - 1s 1ms/step - loss: 0.5118 - accuracy: 0.7539 - val_loss: 0.9459 - val_accuracy: 0.0000e+00\n",
            "Epoch 6/350\n",
            "382/382 [==============================] - 1s 1ms/step - loss: 0.5096 - accuracy: 0.7461 - val_loss: 0.7182 - val_accuracy: 0.5000\n",
            "Epoch 7/350\n",
            "382/382 [==============================] - 1s 1ms/step - loss: 0.5012 - accuracy: 0.7408 - val_loss: 0.5631 - val_accuracy: 1.0000\n",
            "Epoch 8/350\n",
            "382/382 [==============================] - 1s 1ms/step - loss: 0.4897 - accuracy: 0.7579 - val_loss: 0.7932 - val_accuracy: 0.0000e+00\n",
            "Epoch 9/350\n",
            "382/382 [==============================] - 1s 1ms/step - loss: 0.4913 - accuracy: 0.7709 - val_loss: 0.5588 - val_accuracy: 1.0000\n",
            "Epoch 10/350\n",
            "382/382 [==============================] - 1s 1ms/step - loss: 0.4874 - accuracy: 0.7605 - val_loss: 1.0180 - val_accuracy: 0.0000e+00\n",
            "Epoch 11/350\n",
            "382/382 [==============================] - 1s 1ms/step - loss: 0.4913 - accuracy: 0.7605 - val_loss: 0.9392 - val_accuracy: 0.0000e+00\n",
            "Epoch 12/350\n",
            "382/382 [==============================] - 1s 1ms/step - loss: 0.4892 - accuracy: 0.7723 - val_loss: 0.4020 - val_accuracy: 1.0000\n",
            "Epoch 13/350\n",
            "382/382 [==============================] - 1s 1ms/step - loss: 0.4878 - accuracy: 0.7631 - val_loss: 0.3226 - val_accuracy: 1.0000\n",
            "Epoch 14/350\n",
            "382/382 [==============================] - 1s 1ms/step - loss: 0.4829 - accuracy: 0.7644 - val_loss: 0.2270 - val_accuracy: 1.0000\n",
            "Epoch 15/350\n",
            "382/382 [==============================] - 1s 1ms/step - loss: 0.4866 - accuracy: 0.7592 - val_loss: 0.8207 - val_accuracy: 0.0000e+00\n",
            "Epoch 16/350\n",
            "382/382 [==============================] - 1s 1ms/step - loss: 0.4857 - accuracy: 0.7683 - val_loss: 0.2690 - val_accuracy: 1.0000\n",
            "Epoch 17/350\n",
            "382/382 [==============================] - 1s 1ms/step - loss: 0.4845 - accuracy: 0.7683 - val_loss: 0.4290 - val_accuracy: 1.0000\n",
            "Epoch 18/350\n",
            "382/382 [==============================] - 1s 2ms/step - loss: 0.4787 - accuracy: 0.7749 - val_loss: 0.4030 - val_accuracy: 1.0000\n",
            "Epoch 19/350\n",
            "382/382 [==============================] - 1s 1ms/step - loss: 0.4702 - accuracy: 0.7605 - val_loss: 0.4209 - val_accuracy: 1.0000\n",
            "Epoch 20/350\n",
            "382/382 [==============================] - 1s 1ms/step - loss: 0.4785 - accuracy: 0.7840 - val_loss: 0.3798 - val_accuracy: 1.0000\n",
            "Epoch 21/350\n",
            "382/382 [==============================] - 1s 2ms/step - loss: 0.4821 - accuracy: 0.7683 - val_loss: 0.4286 - val_accuracy: 1.0000\n",
            "Epoch 22/350\n",
            "382/382 [==============================] - 1s 1ms/step - loss: 0.4768 - accuracy: 0.7657 - val_loss: 0.5691 - val_accuracy: 1.0000\n",
            "Epoch 23/350\n",
            "382/382 [==============================] - 1s 2ms/step - loss: 0.4774 - accuracy: 0.7579 - val_loss: 0.4402 - val_accuracy: 1.0000\n",
            "Epoch 24/350\n",
            "382/382 [==============================] - 1s 1ms/step - loss: 0.4761 - accuracy: 0.7657 - val_loss: 0.5412 - val_accuracy: 1.0000\n",
            "Epoch 25/350\n",
            "382/382 [==============================] - 1s 1ms/step - loss: 0.4695 - accuracy: 0.7762 - val_loss: 0.5083 - val_accuracy: 1.0000\n",
            "Epoch 26/350\n",
            "382/382 [==============================] - 1s 2ms/step - loss: 0.4743 - accuracy: 0.7644 - val_loss: 0.7053 - val_accuracy: 0.5000\n",
            "Epoch 27/350\n",
            "382/382 [==============================] - 1s 1ms/step - loss: 0.4730 - accuracy: 0.7775 - val_loss: 0.5532 - val_accuracy: 1.0000\n",
            "Epoch 28/350\n",
            "382/382 [==============================] - 1s 1ms/step - loss: 0.4744 - accuracy: 0.7657 - val_loss: 0.6301 - val_accuracy: 0.5000\n",
            "Epoch 29/350\n",
            "382/382 [==============================] - 1s 1ms/step - loss: 0.4713 - accuracy: 0.7696 - val_loss: 0.5954 - val_accuracy: 1.0000\n",
            "Epoch 30/350\n",
            "382/382 [==============================] - 1s 1ms/step - loss: 0.4680 - accuracy: 0.7709 - val_loss: 0.7481 - val_accuracy: 0.0000e+00\n",
            "Epoch 31/350\n",
            "382/382 [==============================] - 1s 2ms/step - loss: 0.4722 - accuracy: 0.7814 - val_loss: 0.5031 - val_accuracy: 1.0000\n",
            "Epoch 32/350\n",
            "382/382 [==============================] - 1s 2ms/step - loss: 0.4726 - accuracy: 0.7618 - val_loss: 0.2642 - val_accuracy: 1.0000\n",
            "Epoch 33/350\n",
            "382/382 [==============================] - 1s 2ms/step - loss: 0.4717 - accuracy: 0.7657 - val_loss: 0.4278 - val_accuracy: 1.0000\n",
            "Epoch 34/350\n",
            "382/382 [==============================] - 1s 2ms/step - loss: 0.4636 - accuracy: 0.7723 - val_loss: 0.2221 - val_accuracy: 1.0000\n",
            "Epoch 35/350\n",
            "382/382 [==============================] - 1s 2ms/step - loss: 0.4686 - accuracy: 0.7565 - val_loss: 0.3816 - val_accuracy: 1.0000\n",
            "Epoch 36/350\n",
            "382/382 [==============================] - 1s 1ms/step - loss: 0.4686 - accuracy: 0.7618 - val_loss: 0.4679 - val_accuracy: 1.0000\n",
            "Epoch 37/350\n",
            "382/382 [==============================] - 1s 2ms/step - loss: 0.4713 - accuracy: 0.7683 - val_loss: 0.4936 - val_accuracy: 1.0000\n",
            "Epoch 38/350\n",
            "382/382 [==============================] - 1s 1ms/step - loss: 0.4681 - accuracy: 0.7736 - val_loss: 0.6200 - val_accuracy: 1.0000\n",
            "Epoch 39/350\n",
            "382/382 [==============================] - 1s 1ms/step - loss: 0.4605 - accuracy: 0.7788 - val_loss: 0.5869 - val_accuracy: 1.0000\n",
            "Epoch 40/350\n",
            "382/382 [==============================] - 1s 2ms/step - loss: 0.4645 - accuracy: 0.7670 - val_loss: 0.5891 - val_accuracy: 1.0000\n",
            "Epoch 41/350\n",
            "382/382 [==============================] - 1s 1ms/step - loss: 0.4674 - accuracy: 0.7814 - val_loss: 0.5090 - val_accuracy: 1.0000\n",
            "Epoch 42/350\n",
            "382/382 [==============================] - 1s 2ms/step - loss: 0.4657 - accuracy: 0.7592 - val_loss: 0.5380 - val_accuracy: 1.0000\n",
            "Epoch 43/350\n",
            "382/382 [==============================] - 1s 2ms/step - loss: 0.4621 - accuracy: 0.7670 - val_loss: 0.5267 - val_accuracy: 1.0000\n",
            "Epoch 44/350\n",
            "382/382 [==============================] - 1s 2ms/step - loss: 0.4664 - accuracy: 0.7788 - val_loss: 0.3295 - val_accuracy: 1.0000\n",
            "Epoch 45/350\n",
            "382/382 [==============================] - 1s 2ms/step - loss: 0.4615 - accuracy: 0.7749 - val_loss: 0.4818 - val_accuracy: 1.0000\n",
            "Epoch 46/350\n",
            "382/382 [==============================] - 1s 1ms/step - loss: 0.4607 - accuracy: 0.7814 - val_loss: 0.3036 - val_accuracy: 1.0000\n",
            "Epoch 47/350\n",
            "382/382 [==============================] - 1s 2ms/step - loss: 0.4642 - accuracy: 0.7670 - val_loss: 0.4772 - val_accuracy: 1.0000\n",
            "Epoch 48/350\n",
            "382/382 [==============================] - 1s 1ms/step - loss: 0.4590 - accuracy: 0.7670 - val_loss: 0.4024 - val_accuracy: 1.0000\n",
            "Epoch 49/350\n",
            "382/382 [==============================] - 1s 1ms/step - loss: 0.4625 - accuracy: 0.7749 - val_loss: 0.7164 - val_accuracy: 0.5000\n",
            "Epoch 50/350\n",
            "382/382 [==============================] - 1s 1ms/step - loss: 0.4597 - accuracy: 0.7696 - val_loss: 0.2450 - val_accuracy: 1.0000\n",
            "Epoch 51/350\n",
            "382/382 [==============================] - 1s 2ms/step - loss: 0.4557 - accuracy: 0.7840 - val_loss: 0.3591 - val_accuracy: 1.0000\n",
            "Epoch 52/350\n",
            "382/382 [==============================] - 1s 2ms/step - loss: 0.4576 - accuracy: 0.7814 - val_loss: 0.6121 - val_accuracy: 1.0000\n",
            "Epoch 53/350\n",
            "382/382 [==============================] - 1s 1ms/step - loss: 0.4599 - accuracy: 0.7670 - val_loss: 0.4097 - val_accuracy: 1.0000\n",
            "Epoch 54/350\n",
            "382/382 [==============================] - 1s 2ms/step - loss: 0.4581 - accuracy: 0.7801 - val_loss: 0.3724 - val_accuracy: 1.0000\n",
            "Epoch 55/350\n",
            "382/382 [==============================] - 1s 2ms/step - loss: 0.4622 - accuracy: 0.7762 - val_loss: 0.4969 - val_accuracy: 1.0000\n",
            "Epoch 56/350\n",
            "382/382 [==============================] - 1s 2ms/step - loss: 0.4589 - accuracy: 0.7880 - val_loss: 0.4797 - val_accuracy: 1.0000\n",
            "Epoch 57/350\n",
            "382/382 [==============================] - 1s 2ms/step - loss: 0.4607 - accuracy: 0.7696 - val_loss: 0.4789 - val_accuracy: 1.0000\n",
            "Epoch 58/350\n",
            "382/382 [==============================] - 1s 2ms/step - loss: 0.4569 - accuracy: 0.7749 - val_loss: 0.4892 - val_accuracy: 1.0000\n",
            "Epoch 59/350\n",
            "382/382 [==============================] - 1s 2ms/step - loss: 0.4567 - accuracy: 0.7762 - val_loss: 0.5215 - val_accuracy: 1.0000\n",
            "Epoch 60/350\n",
            "382/382 [==============================] - 1s 1ms/step - loss: 0.4578 - accuracy: 0.7683 - val_loss: 0.4237 - val_accuracy: 1.0000\n",
            "Epoch 61/350\n",
            "382/382 [==============================] - 1s 1ms/step - loss: 0.4486 - accuracy: 0.7958 - val_loss: 0.2596 - val_accuracy: 1.0000\n",
            "Epoch 62/350\n",
            "382/382 [==============================] - 1s 1ms/step - loss: 0.4590 - accuracy: 0.7736 - val_loss: 0.4850 - val_accuracy: 1.0000\n",
            "Epoch 63/350\n",
            "382/382 [==============================] - 1s 1ms/step - loss: 0.4540 - accuracy: 0.7762 - val_loss: 0.6076 - val_accuracy: 1.0000\n",
            "Epoch 64/350\n",
            "382/382 [==============================] - 1s 1ms/step - loss: 0.4575 - accuracy: 0.7723 - val_loss: 0.3298 - val_accuracy: 1.0000\n",
            "Epoch 65/350\n",
            "382/382 [==============================] - 1s 1ms/step - loss: 0.4562 - accuracy: 0.7866 - val_loss: 0.4621 - val_accuracy: 1.0000\n",
            "Epoch 66/350\n",
            "382/382 [==============================] - 1s 2ms/step - loss: 0.4528 - accuracy: 0.7853 - val_loss: 0.5205 - val_accuracy: 1.0000\n",
            "Epoch 67/350\n",
            "382/382 [==============================] - 1s 2ms/step - loss: 0.4532 - accuracy: 0.7827 - val_loss: 0.4538 - val_accuracy: 1.0000\n",
            "Epoch 68/350\n",
            "382/382 [==============================] - 1s 2ms/step - loss: 0.4483 - accuracy: 0.7775 - val_loss: 0.6211 - val_accuracy: 1.0000\n",
            "Epoch 69/350\n",
            "382/382 [==============================] - 1s 1ms/step - loss: 0.4534 - accuracy: 0.7723 - val_loss: 0.3646 - val_accuracy: 1.0000\n",
            "Epoch 70/350\n",
            "382/382 [==============================] - 1s 2ms/step - loss: 0.4562 - accuracy: 0.7814 - val_loss: 0.3360 - val_accuracy: 1.0000\n",
            "Epoch 71/350\n",
            "382/382 [==============================] - 1s 1ms/step - loss: 0.4533 - accuracy: 0.7801 - val_loss: 0.4486 - val_accuracy: 1.0000\n",
            "Epoch 72/350\n",
            "382/382 [==============================] - 1s 1ms/step - loss: 0.4505 - accuracy: 0.7775 - val_loss: 0.2793 - val_accuracy: 1.0000\n",
            "Epoch 73/350\n",
            "382/382 [==============================] - 1s 2ms/step - loss: 0.4492 - accuracy: 0.7788 - val_loss: 0.3129 - val_accuracy: 1.0000\n",
            "Epoch 74/350\n",
            "382/382 [==============================] - 1s 2ms/step - loss: 0.4516 - accuracy: 0.7827 - val_loss: 0.2793 - val_accuracy: 1.0000\n",
            "Epoch 75/350\n",
            "382/382 [==============================] - 1s 1ms/step - loss: 0.4456 - accuracy: 0.7840 - val_loss: 0.2143 - val_accuracy: 1.0000\n",
            "Epoch 76/350\n",
            "382/382 [==============================] - 1s 1ms/step - loss: 0.4525 - accuracy: 0.7644 - val_loss: 0.4042 - val_accuracy: 1.0000\n",
            "Epoch 77/350\n",
            "382/382 [==============================] - 1s 1ms/step - loss: 0.4472 - accuracy: 0.7840 - val_loss: 0.7470 - val_accuracy: 0.5000\n",
            "Epoch 78/350\n",
            "382/382 [==============================] - 1s 1ms/step - loss: 0.4478 - accuracy: 0.7984 - val_loss: 0.2466 - val_accuracy: 1.0000\n",
            "Epoch 79/350\n",
            "382/382 [==============================] - 1s 1ms/step - loss: 0.4484 - accuracy: 0.7893 - val_loss: 0.4673 - val_accuracy: 1.0000\n",
            "Epoch 80/350\n",
            "382/382 [==============================] - 1s 1ms/step - loss: 0.4469 - accuracy: 0.7866 - val_loss: 0.5795 - val_accuracy: 1.0000\n",
            "Epoch 81/350\n",
            "382/382 [==============================] - 1s 1ms/step - loss: 0.4439 - accuracy: 0.7880 - val_loss: 0.2540 - val_accuracy: 1.0000\n",
            "Epoch 82/350\n",
            "382/382 [==============================] - 1s 1ms/step - loss: 0.4483 - accuracy: 0.7749 - val_loss: 0.3115 - val_accuracy: 1.0000\n",
            "Epoch 83/350\n",
            "382/382 [==============================] - 1s 1ms/step - loss: 0.4474 - accuracy: 0.7827 - val_loss: 0.4289 - val_accuracy: 1.0000\n",
            "Epoch 84/350\n",
            "382/382 [==============================] - 1s 2ms/step - loss: 0.4416 - accuracy: 0.7709 - val_loss: 0.5871 - val_accuracy: 0.5000\n",
            "Epoch 85/350\n",
            "382/382 [==============================] - 1s 2ms/step - loss: 0.4402 - accuracy: 0.7840 - val_loss: 0.5228 - val_accuracy: 1.0000\n",
            "Epoch 86/350\n",
            "382/382 [==============================] - 1s 1ms/step - loss: 0.4434 - accuracy: 0.7749 - val_loss: 0.1978 - val_accuracy: 1.0000\n",
            "Epoch 87/350\n",
            "382/382 [==============================] - 1s 2ms/step - loss: 0.4454 - accuracy: 0.7932 - val_loss: 0.2986 - val_accuracy: 1.0000\n",
            "Epoch 88/350\n",
            "382/382 [==============================] - 1s 2ms/step - loss: 0.4428 - accuracy: 0.7971 - val_loss: 0.2112 - val_accuracy: 1.0000\n",
            "Epoch 89/350\n",
            "382/382 [==============================] - 1s 1ms/step - loss: 0.4431 - accuracy: 0.7788 - val_loss: 0.4080 - val_accuracy: 1.0000\n",
            "Epoch 90/350\n",
            "382/382 [==============================] - 1s 1ms/step - loss: 0.4395 - accuracy: 0.7827 - val_loss: 0.3035 - val_accuracy: 1.0000\n",
            "Epoch 91/350\n",
            "382/382 [==============================] - 1s 2ms/step - loss: 0.4347 - accuracy: 0.7906 - val_loss: 0.3978 - val_accuracy: 1.0000\n",
            "Epoch 92/350\n",
            "382/382 [==============================] - 1s 1ms/step - loss: 0.4434 - accuracy: 0.7801 - val_loss: 0.2458 - val_accuracy: 1.0000\n",
            "Epoch 93/350\n",
            "382/382 [==============================] - 1s 2ms/step - loss: 0.4400 - accuracy: 0.7866 - val_loss: 0.2457 - val_accuracy: 1.0000\n",
            "Epoch 94/350\n",
            "382/382 [==============================] - 1s 2ms/step - loss: 0.4422 - accuracy: 0.7919 - val_loss: 0.6627 - val_accuracy: 0.5000\n",
            "Epoch 95/350\n",
            "382/382 [==============================] - 1s 2ms/step - loss: 0.4382 - accuracy: 0.7880 - val_loss: 0.3202 - val_accuracy: 1.0000\n",
            "Epoch 96/350\n",
            "382/382 [==============================] - 1s 2ms/step - loss: 0.4477 - accuracy: 0.7814 - val_loss: 0.4177 - val_accuracy: 1.0000\n",
            "Epoch 97/350\n",
            "382/382 [==============================] - 1s 1ms/step - loss: 0.4388 - accuracy: 0.7683 - val_loss: 0.3562 - val_accuracy: 1.0000\n",
            "Epoch 98/350\n",
            "382/382 [==============================] - 1s 2ms/step - loss: 0.4404 - accuracy: 0.7866 - val_loss: 0.4773 - val_accuracy: 1.0000\n",
            "Epoch 99/350\n",
            "382/382 [==============================] - 1s 2ms/step - loss: 0.4371 - accuracy: 0.7866 - val_loss: 0.5093 - val_accuracy: 1.0000\n",
            "Epoch 100/350\n",
            "382/382 [==============================] - 1s 2ms/step - loss: 0.4308 - accuracy: 0.7997 - val_loss: 0.2889 - val_accuracy: 1.0000\n",
            "Epoch 101/350\n",
            "382/382 [==============================] - 1s 2ms/step - loss: 0.4410 - accuracy: 0.7775 - val_loss: 0.3507 - val_accuracy: 1.0000\n",
            "Epoch 102/350\n",
            "382/382 [==============================] - 1s 1ms/step - loss: 0.4397 - accuracy: 0.7853 - val_loss: 0.3987 - val_accuracy: 1.0000\n",
            "Epoch 103/350\n",
            "382/382 [==============================] - 1s 1ms/step - loss: 0.4390 - accuracy: 0.7762 - val_loss: 0.3645 - val_accuracy: 1.0000\n",
            "Epoch 104/350\n",
            "382/382 [==============================] - 1s 1ms/step - loss: 0.4361 - accuracy: 0.7866 - val_loss: 0.1931 - val_accuracy: 1.0000\n",
            "Epoch 105/350\n",
            "382/382 [==============================] - 1s 1ms/step - loss: 0.4366 - accuracy: 0.7827 - val_loss: 0.2731 - val_accuracy: 1.0000\n",
            "Epoch 106/350\n",
            "382/382 [==============================] - 1s 2ms/step - loss: 0.4372 - accuracy: 0.7840 - val_loss: 0.3660 - val_accuracy: 1.0000\n",
            "Epoch 107/350\n",
            "382/382 [==============================] - 1s 2ms/step - loss: 0.4357 - accuracy: 0.7906 - val_loss: 0.4395 - val_accuracy: 1.0000\n",
            "Epoch 108/350\n",
            "382/382 [==============================] - 1s 2ms/step - loss: 0.4353 - accuracy: 0.7827 - val_loss: 0.4739 - val_accuracy: 1.0000\n",
            "Epoch 109/350\n",
            "382/382 [==============================] - 1s 2ms/step - loss: 0.4361 - accuracy: 0.7932 - val_loss: 0.3386 - val_accuracy: 1.0000\n",
            "Epoch 110/350\n",
            "382/382 [==============================] - 1s 2ms/step - loss: 0.4343 - accuracy: 0.7997 - val_loss: 0.4484 - val_accuracy: 1.0000\n",
            "Epoch 111/350\n",
            "382/382 [==============================] - 1s 1ms/step - loss: 0.4387 - accuracy: 0.7801 - val_loss: 0.4464 - val_accuracy: 1.0000\n",
            "Epoch 112/350\n",
            "382/382 [==============================] - 1s 1ms/step - loss: 0.4351 - accuracy: 0.7775 - val_loss: 0.4760 - val_accuracy: 1.0000\n",
            "Epoch 113/350\n",
            "382/382 [==============================] - 1s 1ms/step - loss: 0.4386 - accuracy: 0.7775 - val_loss: 0.2258 - val_accuracy: 1.0000\n",
            "Epoch 114/350\n",
            "382/382 [==============================] - 1s 1ms/step - loss: 0.4285 - accuracy: 0.7893 - val_loss: 0.3263 - val_accuracy: 1.0000\n",
            "Epoch 115/350\n",
            "382/382 [==============================] - 1s 1ms/step - loss: 0.4344 - accuracy: 0.7814 - val_loss: 0.3074 - val_accuracy: 1.0000\n",
            "Epoch 116/350\n",
            "382/382 [==============================] - 1s 1ms/step - loss: 0.4333 - accuracy: 0.7945 - val_loss: 0.2263 - val_accuracy: 1.0000\n",
            "Epoch 117/350\n",
            "382/382 [==============================] - 1s 2ms/step - loss: 0.4305 - accuracy: 0.7880 - val_loss: 0.1970 - val_accuracy: 1.0000\n",
            "Epoch 118/350\n",
            "382/382 [==============================] - 1s 2ms/step - loss: 0.4314 - accuracy: 0.7945 - val_loss: 0.4630 - val_accuracy: 1.0000\n",
            "Epoch 119/350\n",
            "382/382 [==============================] - 1s 2ms/step - loss: 0.4371 - accuracy: 0.7880 - val_loss: 0.4100 - val_accuracy: 1.0000\n",
            "Epoch 120/350\n",
            "382/382 [==============================] - 1s 2ms/step - loss: 0.4314 - accuracy: 0.7866 - val_loss: 0.5154 - val_accuracy: 1.0000\n",
            "Epoch 121/350\n",
            "382/382 [==============================] - 1s 2ms/step - loss: 0.4323 - accuracy: 0.7866 - val_loss: 0.3686 - val_accuracy: 1.0000\n",
            "Epoch 122/350\n",
            "382/382 [==============================] - 1s 2ms/step - loss: 0.4344 - accuracy: 0.7827 - val_loss: 0.3865 - val_accuracy: 1.0000\n",
            "Epoch 123/350\n",
            "382/382 [==============================] - 1s 2ms/step - loss: 0.4333 - accuracy: 0.7840 - val_loss: 0.2801 - val_accuracy: 1.0000\n",
            "Epoch 124/350\n",
            "382/382 [==============================] - 1s 1ms/step - loss: 0.4303 - accuracy: 0.7945 - val_loss: 0.3137 - val_accuracy: 1.0000\n",
            "Epoch 125/350\n",
            "382/382 [==============================] - 1s 1ms/step - loss: 0.4306 - accuracy: 0.7932 - val_loss: 0.4235 - val_accuracy: 1.0000\n",
            "Epoch 126/350\n",
            "382/382 [==============================] - 1s 2ms/step - loss: 0.4321 - accuracy: 0.7775 - val_loss: 0.3585 - val_accuracy: 1.0000\n",
            "Epoch 127/350\n",
            "382/382 [==============================] - 1s 2ms/step - loss: 0.4311 - accuracy: 0.7853 - val_loss: 0.3294 - val_accuracy: 1.0000\n",
            "Epoch 128/350\n",
            "382/382 [==============================] - 1s 2ms/step - loss: 0.4318 - accuracy: 0.7749 - val_loss: 0.3531 - val_accuracy: 1.0000\n",
            "Epoch 129/350\n",
            "382/382 [==============================] - 1s 1ms/step - loss: 0.4309 - accuracy: 0.7762 - val_loss: 0.2976 - val_accuracy: 1.0000\n",
            "Epoch 130/350\n",
            "382/382 [==============================] - 1s 1ms/step - loss: 0.4297 - accuracy: 0.7997 - val_loss: 0.2887 - val_accuracy: 1.0000\n",
            "Epoch 131/350\n",
            "382/382 [==============================] - 1s 1ms/step - loss: 0.4212 - accuracy: 0.7919 - val_loss: 0.4047 - val_accuracy: 1.0000\n",
            "Epoch 132/350\n",
            "382/382 [==============================] - 1s 1ms/step - loss: 0.4298 - accuracy: 0.7997 - val_loss: 0.2492 - val_accuracy: 1.0000\n",
            "Epoch 133/350\n",
            "382/382 [==============================] - 1s 1ms/step - loss: 0.4271 - accuracy: 0.7984 - val_loss: 0.1400 - val_accuracy: 1.0000\n",
            "Epoch 134/350\n",
            "382/382 [==============================] - 1s 1ms/step - loss: 0.4248 - accuracy: 0.8010 - val_loss: 0.3613 - val_accuracy: 1.0000\n",
            "Epoch 135/350\n",
            "382/382 [==============================] - 1s 1ms/step - loss: 0.4283 - accuracy: 0.7932 - val_loss: 0.2991 - val_accuracy: 1.0000\n",
            "Epoch 136/350\n",
            "382/382 [==============================] - 1s 1ms/step - loss: 0.4221 - accuracy: 0.7906 - val_loss: 0.1759 - val_accuracy: 1.0000\n",
            "Epoch 137/350\n",
            "382/382 [==============================] - 1s 2ms/step - loss: 0.4258 - accuracy: 0.7814 - val_loss: 0.3774 - val_accuracy: 1.0000\n",
            "Epoch 138/350\n",
            "382/382 [==============================] - 1s 1ms/step - loss: 0.4260 - accuracy: 0.7932 - val_loss: 0.3073 - val_accuracy: 1.0000\n",
            "Epoch 139/350\n",
            "382/382 [==============================] - 1s 1ms/step - loss: 0.4276 - accuracy: 0.7840 - val_loss: 0.2350 - val_accuracy: 1.0000\n",
            "Epoch 140/350\n",
            "382/382 [==============================] - 1s 2ms/step - loss: 0.4311 - accuracy: 0.7853 - val_loss: 0.3909 - val_accuracy: 1.0000\n",
            "Epoch 141/350\n",
            "382/382 [==============================] - 1s 2ms/step - loss: 0.4234 - accuracy: 0.7840 - val_loss: 0.3676 - val_accuracy: 1.0000\n",
            "Epoch 142/350\n",
            "382/382 [==============================] - 1s 1ms/step - loss: 0.4273 - accuracy: 0.7866 - val_loss: 0.3885 - val_accuracy: 1.0000\n",
            "Epoch 143/350\n",
            "382/382 [==============================] - 1s 1ms/step - loss: 0.4226 - accuracy: 0.7971 - val_loss: 0.4639 - val_accuracy: 1.0000\n",
            "Epoch 144/350\n",
            "382/382 [==============================] - 1s 2ms/step - loss: 0.4265 - accuracy: 0.7814 - val_loss: 0.2478 - val_accuracy: 1.0000\n",
            "Epoch 145/350\n",
            "382/382 [==============================] - 1s 2ms/step - loss: 0.4221 - accuracy: 0.7997 - val_loss: 0.3491 - val_accuracy: 1.0000\n",
            "Epoch 146/350\n",
            "382/382 [==============================] - 1s 2ms/step - loss: 0.4202 - accuracy: 0.7958 - val_loss: 0.3853 - val_accuracy: 1.0000\n",
            "Epoch 147/350\n",
            "382/382 [==============================] - 1s 2ms/step - loss: 0.4228 - accuracy: 0.7932 - val_loss: 0.3145 - val_accuracy: 1.0000\n",
            "Epoch 148/350\n",
            "382/382 [==============================] - 1s 2ms/step - loss: 0.4260 - accuracy: 0.7932 - val_loss: 0.2874 - val_accuracy: 1.0000\n",
            "Epoch 149/350\n",
            "382/382 [==============================] - 1s 2ms/step - loss: 0.4217 - accuracy: 0.7919 - val_loss: 0.5023 - val_accuracy: 0.5000\n",
            "Epoch 150/350\n",
            "382/382 [==============================] - 1s 2ms/step - loss: 0.4205 - accuracy: 0.7932 - val_loss: 0.1804 - val_accuracy: 1.0000\n",
            "Epoch 151/350\n",
            "382/382 [==============================] - 1s 1ms/step - loss: 0.4201 - accuracy: 0.7945 - val_loss: 0.2165 - val_accuracy: 1.0000\n",
            "Epoch 152/350\n",
            "382/382 [==============================] - 1s 2ms/step - loss: 0.4173 - accuracy: 0.8010 - val_loss: 0.3237 - val_accuracy: 1.0000\n",
            "Epoch 153/350\n",
            "382/382 [==============================] - 1s 2ms/step - loss: 0.4184 - accuracy: 0.7880 - val_loss: 0.4889 - val_accuracy: 1.0000\n",
            "Epoch 154/350\n",
            "382/382 [==============================] - 1s 1ms/step - loss: 0.4213 - accuracy: 0.7827 - val_loss: 0.2842 - val_accuracy: 1.0000\n",
            "Epoch 155/350\n",
            "382/382 [==============================] - 1s 2ms/step - loss: 0.4222 - accuracy: 0.7958 - val_loss: 0.2575 - val_accuracy: 1.0000\n",
            "Epoch 156/350\n",
            "382/382 [==============================] - 1s 2ms/step - loss: 0.4182 - accuracy: 0.7932 - val_loss: 0.1834 - val_accuracy: 1.0000\n",
            "Epoch 157/350\n",
            "382/382 [==============================] - 1s 2ms/step - loss: 0.4169 - accuracy: 0.8037 - val_loss: 0.4786 - val_accuracy: 1.0000\n",
            "Epoch 158/350\n",
            "382/382 [==============================] - 1s 2ms/step - loss: 0.4191 - accuracy: 0.7971 - val_loss: 0.1904 - val_accuracy: 1.0000\n",
            "Epoch 159/350\n",
            "382/382 [==============================] - 1s 2ms/step - loss: 0.4138 - accuracy: 0.7906 - val_loss: 0.1946 - val_accuracy: 1.0000\n",
            "Epoch 160/350\n",
            "382/382 [==============================] - 1s 2ms/step - loss: 0.4178 - accuracy: 0.7958 - val_loss: 0.2820 - val_accuracy: 1.0000\n",
            "Epoch 161/350\n",
            "382/382 [==============================] - 1s 2ms/step - loss: 0.4242 - accuracy: 0.7906 - val_loss: 0.3174 - val_accuracy: 1.0000\n",
            "Epoch 162/350\n",
            "382/382 [==============================] - 1s 2ms/step - loss: 0.4155 - accuracy: 0.7906 - val_loss: 0.3759 - val_accuracy: 1.0000\n",
            "Epoch 163/350\n",
            "382/382 [==============================] - 1s 2ms/step - loss: 0.4157 - accuracy: 0.8024 - val_loss: 0.5374 - val_accuracy: 0.5000\n",
            "Epoch 164/350\n",
            "382/382 [==============================] - 1s 2ms/step - loss: 0.4235 - accuracy: 0.7880 - val_loss: 0.2614 - val_accuracy: 1.0000\n",
            "Epoch 165/350\n",
            "382/382 [==============================] - 1s 2ms/step - loss: 0.4095 - accuracy: 0.8037 - val_loss: 0.3572 - val_accuracy: 1.0000\n",
            "Epoch 166/350\n",
            "382/382 [==============================] - 1s 3ms/step - loss: 0.4173 - accuracy: 0.8089 - val_loss: 0.2520 - val_accuracy: 1.0000\n",
            "Epoch 167/350\n",
            "382/382 [==============================] - 1s 2ms/step - loss: 0.4184 - accuracy: 0.8037 - val_loss: 0.3091 - val_accuracy: 1.0000\n",
            "Epoch 168/350\n",
            "382/382 [==============================] - 1s 2ms/step - loss: 0.4130 - accuracy: 0.7945 - val_loss: 0.4498 - val_accuracy: 1.0000\n",
            "Epoch 169/350\n",
            "382/382 [==============================] - 1s 2ms/step - loss: 0.4158 - accuracy: 0.7997 - val_loss: 0.3098 - val_accuracy: 1.0000\n",
            "Epoch 170/350\n",
            "382/382 [==============================] - 1s 2ms/step - loss: 0.4160 - accuracy: 0.7932 - val_loss: 0.2456 - val_accuracy: 1.0000\n",
            "Epoch 171/350\n",
            "382/382 [==============================] - 1s 1ms/step - loss: 0.4239 - accuracy: 0.7958 - val_loss: 0.1945 - val_accuracy: 1.0000\n",
            "Epoch 172/350\n",
            "382/382 [==============================] - 1s 2ms/step - loss: 0.4143 - accuracy: 0.8010 - val_loss: 0.3636 - val_accuracy: 1.0000\n",
            "Epoch 173/350\n",
            "382/382 [==============================] - 1s 2ms/step - loss: 0.4180 - accuracy: 0.7919 - val_loss: 0.5948 - val_accuracy: 1.0000\n",
            "Epoch 174/350\n",
            "382/382 [==============================] - 1s 2ms/step - loss: 0.4116 - accuracy: 0.8024 - val_loss: 0.4203 - val_accuracy: 1.0000\n",
            "Epoch 175/350\n",
            "382/382 [==============================] - 1s 2ms/step - loss: 0.4157 - accuracy: 0.7932 - val_loss: 0.5529 - val_accuracy: 1.0000\n",
            "Epoch 176/350\n",
            "382/382 [==============================] - 1s 1ms/step - loss: 0.4124 - accuracy: 0.8024 - val_loss: 0.1975 - val_accuracy: 1.0000\n",
            "Epoch 177/350\n",
            "382/382 [==============================] - 1s 1ms/step - loss: 0.4105 - accuracy: 0.8154 - val_loss: 0.3843 - val_accuracy: 1.0000\n",
            "Epoch 178/350\n",
            "382/382 [==============================] - 1s 2ms/step - loss: 0.4125 - accuracy: 0.8063 - val_loss: 0.3020 - val_accuracy: 1.0000\n",
            "Epoch 179/350\n",
            "382/382 [==============================] - 1s 2ms/step - loss: 0.4078 - accuracy: 0.8010 - val_loss: 0.2743 - val_accuracy: 1.0000\n",
            "Epoch 180/350\n",
            "382/382 [==============================] - 1s 2ms/step - loss: 0.4114 - accuracy: 0.7971 - val_loss: 0.1833 - val_accuracy: 1.0000\n",
            "Epoch 181/350\n",
            "382/382 [==============================] - 1s 1ms/step - loss: 0.4086 - accuracy: 0.8010 - val_loss: 0.6085 - val_accuracy: 1.0000\n",
            "Epoch 182/350\n",
            "382/382 [==============================] - 1s 2ms/step - loss: 0.4128 - accuracy: 0.7984 - val_loss: 0.3270 - val_accuracy: 1.0000\n",
            "Epoch 183/350\n",
            "382/382 [==============================] - 1s 2ms/step - loss: 0.4108 - accuracy: 0.7932 - val_loss: 0.1485 - val_accuracy: 1.0000\n",
            "Epoch 184/350\n",
            "382/382 [==============================] - 1s 2ms/step - loss: 0.4126 - accuracy: 0.7906 - val_loss: 0.3095 - val_accuracy: 1.0000\n",
            "Epoch 185/350\n",
            "382/382 [==============================] - 1s 2ms/step - loss: 0.4121 - accuracy: 0.7906 - val_loss: 0.3890 - val_accuracy: 1.0000\n",
            "Epoch 186/350\n",
            "382/382 [==============================] - 1s 2ms/step - loss: 0.4133 - accuracy: 0.7906 - val_loss: 0.3539 - val_accuracy: 1.0000\n",
            "Epoch 187/350\n",
            "382/382 [==============================] - 1s 2ms/step - loss: 0.4105 - accuracy: 0.7932 - val_loss: 0.2995 - val_accuracy: 1.0000\n",
            "Epoch 188/350\n",
            "382/382 [==============================] - 1s 2ms/step - loss: 0.4047 - accuracy: 0.8063 - val_loss: 0.1498 - val_accuracy: 1.0000\n",
            "Epoch 189/350\n",
            "382/382 [==============================] - 1s 1ms/step - loss: 0.4043 - accuracy: 0.8115 - val_loss: 0.1970 - val_accuracy: 1.0000\n",
            "Epoch 190/350\n",
            "382/382 [==============================] - 1s 2ms/step - loss: 0.4114 - accuracy: 0.7971 - val_loss: 0.5599 - val_accuracy: 0.5000\n",
            "Epoch 191/350\n",
            "382/382 [==============================] - 1s 2ms/step - loss: 0.4101 - accuracy: 0.8024 - val_loss: 0.3934 - val_accuracy: 1.0000\n",
            "Epoch 192/350\n",
            "382/382 [==============================] - 1s 1ms/step - loss: 0.4105 - accuracy: 0.8089 - val_loss: 0.4755 - val_accuracy: 1.0000\n",
            "Epoch 193/350\n",
            "382/382 [==============================] - 1s 3ms/step - loss: 0.4096 - accuracy: 0.8024 - val_loss: 0.1659 - val_accuracy: 1.0000\n",
            "Epoch 194/350\n",
            "382/382 [==============================] - 1s 3ms/step - loss: 0.4099 - accuracy: 0.7958 - val_loss: 0.1985 - val_accuracy: 1.0000\n",
            "Epoch 195/350\n",
            "382/382 [==============================] - 1s 1ms/step - loss: 0.4083 - accuracy: 0.8050 - val_loss: 0.3137 - val_accuracy: 1.0000\n",
            "Epoch 196/350\n",
            "382/382 [==============================] - 1s 1ms/step - loss: 0.4107 - accuracy: 0.7919 - val_loss: 0.2215 - val_accuracy: 1.0000\n",
            "Epoch 197/350\n",
            "382/382 [==============================] - 1s 2ms/step - loss: 0.4022 - accuracy: 0.8102 - val_loss: 0.4381 - val_accuracy: 1.0000\n",
            "Epoch 198/350\n",
            "382/382 [==============================] - 1s 2ms/step - loss: 0.4093 - accuracy: 0.7932 - val_loss: 0.4748 - val_accuracy: 1.0000\n",
            "Epoch 199/350\n",
            "382/382 [==============================] - 1s 2ms/step - loss: 0.4030 - accuracy: 0.8024 - val_loss: 0.5564 - val_accuracy: 1.0000\n",
            "Epoch 200/350\n",
            "382/382 [==============================] - 1s 2ms/step - loss: 0.4073 - accuracy: 0.7997 - val_loss: 0.1730 - val_accuracy: 1.0000\n",
            "Epoch 201/350\n",
            "382/382 [==============================] - 1s 2ms/step - loss: 0.4047 - accuracy: 0.8115 - val_loss: 0.2446 - val_accuracy: 1.0000\n",
            "Epoch 202/350\n",
            "382/382 [==============================] - 1s 2ms/step - loss: 0.4071 - accuracy: 0.8063 - val_loss: 0.2512 - val_accuracy: 1.0000\n",
            "Epoch 203/350\n",
            "382/382 [==============================] - 1s 2ms/step - loss: 0.3990 - accuracy: 0.8115 - val_loss: 0.3855 - val_accuracy: 1.0000\n",
            "Epoch 204/350\n",
            "382/382 [==============================] - 1s 2ms/step - loss: 0.4063 - accuracy: 0.8010 - val_loss: 0.3740 - val_accuracy: 1.0000\n",
            "Epoch 205/350\n",
            "382/382 [==============================] - 1s 2ms/step - loss: 0.4011 - accuracy: 0.7997 - val_loss: 0.2348 - val_accuracy: 1.0000\n",
            "Epoch 206/350\n",
            "382/382 [==============================] - 1s 2ms/step - loss: 0.4024 - accuracy: 0.8089 - val_loss: 0.3710 - val_accuracy: 1.0000\n",
            "Epoch 207/350\n",
            "382/382 [==============================] - 1s 2ms/step - loss: 0.4043 - accuracy: 0.8063 - val_loss: 0.3869 - val_accuracy: 1.0000\n",
            "Epoch 208/350\n",
            "382/382 [==============================] - 1s 2ms/step - loss: 0.4026 - accuracy: 0.8141 - val_loss: 0.4230 - val_accuracy: 1.0000\n",
            "Epoch 209/350\n",
            "382/382 [==============================] - 1s 1ms/step - loss: 0.4059 - accuracy: 0.8050 - val_loss: 0.1855 - val_accuracy: 1.0000\n",
            "Epoch 210/350\n",
            "382/382 [==============================] - 1s 2ms/step - loss: 0.3988 - accuracy: 0.8128 - val_loss: 0.4217 - val_accuracy: 1.0000\n",
            "Epoch 211/350\n",
            "382/382 [==============================] - 1s 2ms/step - loss: 0.4042 - accuracy: 0.8010 - val_loss: 0.3242 - val_accuracy: 1.0000\n",
            "Epoch 212/350\n",
            "382/382 [==============================] - 1s 2ms/step - loss: 0.3990 - accuracy: 0.8050 - val_loss: 0.3257 - val_accuracy: 1.0000\n",
            "Epoch 213/350\n",
            "382/382 [==============================] - 1s 2ms/step - loss: 0.4009 - accuracy: 0.8037 - val_loss: 0.2435 - val_accuracy: 1.0000\n",
            "Epoch 214/350\n",
            "382/382 [==============================] - 1s 1ms/step - loss: 0.3970 - accuracy: 0.8063 - val_loss: 0.3655 - val_accuracy: 1.0000\n",
            "Epoch 215/350\n",
            "382/382 [==============================] - 1s 2ms/step - loss: 0.4048 - accuracy: 0.8024 - val_loss: 0.3028 - val_accuracy: 1.0000\n",
            "Epoch 216/350\n",
            "382/382 [==============================] - 1s 2ms/step - loss: 0.3990 - accuracy: 0.8076 - val_loss: 0.4596 - val_accuracy: 1.0000\n",
            "Epoch 217/350\n",
            "382/382 [==============================] - 1s 2ms/step - loss: 0.4050 - accuracy: 0.8115 - val_loss: 0.2465 - val_accuracy: 1.0000\n",
            "Epoch 218/350\n",
            "382/382 [==============================] - 1s 2ms/step - loss: 0.3976 - accuracy: 0.8037 - val_loss: 0.3816 - val_accuracy: 1.0000\n",
            "Epoch 219/350\n",
            "382/382 [==============================] - 1s 2ms/step - loss: 0.4022 - accuracy: 0.8233 - val_loss: 0.5599 - val_accuracy: 1.0000\n",
            "Epoch 220/350\n",
            "382/382 [==============================] - 1s 2ms/step - loss: 0.3969 - accuracy: 0.8089 - val_loss: 0.3864 - val_accuracy: 1.0000\n",
            "Epoch 221/350\n",
            "382/382 [==============================] - 1s 2ms/step - loss: 0.3855 - accuracy: 0.8207 - val_loss: 0.8305 - val_accuracy: 0.5000\n",
            "Epoch 222/350\n",
            "382/382 [==============================] - 1s 2ms/step - loss: 0.4034 - accuracy: 0.8076 - val_loss: 0.5464 - val_accuracy: 0.5000\n",
            "Epoch 223/350\n",
            "382/382 [==============================] - 1s 2ms/step - loss: 0.4079 - accuracy: 0.8076 - val_loss: 0.4014 - val_accuracy: 1.0000\n",
            "Epoch 224/350\n",
            "382/382 [==============================] - 1s 2ms/step - loss: 0.3972 - accuracy: 0.8141 - val_loss: 0.3003 - val_accuracy: 1.0000\n",
            "Epoch 225/350\n",
            "382/382 [==============================] - 1s 2ms/step - loss: 0.3967 - accuracy: 0.8063 - val_loss: 0.3844 - val_accuracy: 1.0000\n",
            "Epoch 226/350\n",
            "382/382 [==============================] - 1s 2ms/step - loss: 0.3996 - accuracy: 0.8233 - val_loss: 0.2660 - val_accuracy: 1.0000\n",
            "Epoch 227/350\n",
            "382/382 [==============================] - 1s 2ms/step - loss: 0.4007 - accuracy: 0.8207 - val_loss: 0.4835 - val_accuracy: 1.0000\n",
            "Epoch 228/350\n",
            "382/382 [==============================] - 1s 2ms/step - loss: 0.3974 - accuracy: 0.8128 - val_loss: 0.4033 - val_accuracy: 1.0000\n",
            "Epoch 229/350\n",
            "382/382 [==============================] - 1s 2ms/step - loss: 0.3920 - accuracy: 0.8181 - val_loss: 0.4579 - val_accuracy: 1.0000\n",
            "Epoch 230/350\n",
            "382/382 [==============================] - 1s 2ms/step - loss: 0.3922 - accuracy: 0.7984 - val_loss: 0.6005 - val_accuracy: 1.0000\n",
            "Epoch 231/350\n",
            "382/382 [==============================] - 1s 2ms/step - loss: 0.3961 - accuracy: 0.8220 - val_loss: 0.6481 - val_accuracy: 0.5000\n",
            "Epoch 232/350\n",
            "382/382 [==============================] - 1s 2ms/step - loss: 0.3888 - accuracy: 0.8259 - val_loss: 0.5718 - val_accuracy: 1.0000\n",
            "Epoch 233/350\n",
            "382/382 [==============================] - 1s 2ms/step - loss: 0.4002 - accuracy: 0.8220 - val_loss: 0.2183 - val_accuracy: 1.0000\n",
            "Epoch 234/350\n",
            "382/382 [==============================] - 1s 2ms/step - loss: 0.3971 - accuracy: 0.8050 - val_loss: 0.1908 - val_accuracy: 1.0000\n",
            "Epoch 235/350\n",
            "382/382 [==============================] - 1s 1ms/step - loss: 0.3892 - accuracy: 0.8233 - val_loss: 0.1734 - val_accuracy: 1.0000\n",
            "Epoch 236/350\n",
            "382/382 [==============================] - 1s 2ms/step - loss: 0.3930 - accuracy: 0.8181 - val_loss: 0.1751 - val_accuracy: 1.0000\n",
            "Epoch 237/350\n",
            "382/382 [==============================] - 1s 1ms/step - loss: 0.3933 - accuracy: 0.8089 - val_loss: 0.2425 - val_accuracy: 1.0000\n",
            "Epoch 238/350\n",
            "382/382 [==============================] - 1s 1ms/step - loss: 0.3903 - accuracy: 0.8168 - val_loss: 0.1481 - val_accuracy: 1.0000\n",
            "Epoch 239/350\n",
            "382/382 [==============================] - 1s 1ms/step - loss: 0.3924 - accuracy: 0.8102 - val_loss: 0.3662 - val_accuracy: 1.0000\n",
            "Epoch 240/350\n",
            "382/382 [==============================] - 1s 1ms/step - loss: 0.3843 - accuracy: 0.8298 - val_loss: 0.4351 - val_accuracy: 1.0000\n",
            "Epoch 241/350\n",
            "382/382 [==============================] - 1s 2ms/step - loss: 0.3975 - accuracy: 0.8089 - val_loss: 0.2146 - val_accuracy: 1.0000\n",
            "Epoch 242/350\n",
            "382/382 [==============================] - 1s 2ms/step - loss: 0.3904 - accuracy: 0.8076 - val_loss: 0.3393 - val_accuracy: 1.0000\n",
            "Epoch 243/350\n",
            "382/382 [==============================] - 1s 2ms/step - loss: 0.3898 - accuracy: 0.8338 - val_loss: 0.3424 - val_accuracy: 1.0000\n",
            "Epoch 244/350\n",
            "382/382 [==============================] - 1s 2ms/step - loss: 0.3888 - accuracy: 0.8102 - val_loss: 0.4192 - val_accuracy: 1.0000\n",
            "Epoch 245/350\n",
            "382/382 [==============================] - 1s 2ms/step - loss: 0.3896 - accuracy: 0.8220 - val_loss: 0.4102 - val_accuracy: 1.0000\n",
            "Epoch 246/350\n",
            "382/382 [==============================] - 1s 2ms/step - loss: 0.3942 - accuracy: 0.8220 - val_loss: 0.3937 - val_accuracy: 1.0000\n",
            "Epoch 247/350\n",
            "382/382 [==============================] - 1s 2ms/step - loss: 0.3948 - accuracy: 0.8089 - val_loss: 0.3770 - val_accuracy: 1.0000\n",
            "Epoch 248/350\n",
            "382/382 [==============================] - 1s 2ms/step - loss: 0.3908 - accuracy: 0.8115 - val_loss: 0.3902 - val_accuracy: 1.0000\n",
            "Epoch 249/350\n",
            "382/382 [==============================] - 1s 2ms/step - loss: 0.3902 - accuracy: 0.8141 - val_loss: 0.3423 - val_accuracy: 1.0000\n",
            "Epoch 250/350\n",
            "382/382 [==============================] - 1s 2ms/step - loss: 0.3904 - accuracy: 0.8089 - val_loss: 0.2173 - val_accuracy: 1.0000\n",
            "Epoch 251/350\n",
            "382/382 [==============================] - 1s 2ms/step - loss: 0.3910 - accuracy: 0.8102 - val_loss: 0.4530 - val_accuracy: 1.0000\n",
            "Epoch 252/350\n",
            "382/382 [==============================] - 1s 2ms/step - loss: 0.3895 - accuracy: 0.8207 - val_loss: 0.2670 - val_accuracy: 1.0000\n",
            "Epoch 253/350\n",
            "382/382 [==============================] - 1s 2ms/step - loss: 0.3864 - accuracy: 0.8194 - val_loss: 0.3824 - val_accuracy: 1.0000\n",
            "Epoch 254/350\n",
            "382/382 [==============================] - 1s 2ms/step - loss: 0.3911 - accuracy: 0.8207 - val_loss: 0.3620 - val_accuracy: 1.0000\n",
            "Epoch 255/350\n",
            "382/382 [==============================] - 1s 2ms/step - loss: 0.3843 - accuracy: 0.8154 - val_loss: 0.2865 - val_accuracy: 1.0000\n",
            "Epoch 256/350\n",
            "382/382 [==============================] - 1s 2ms/step - loss: 0.3877 - accuracy: 0.8154 - val_loss: 0.2548 - val_accuracy: 1.0000\n",
            "Epoch 257/350\n",
            "382/382 [==============================] - 1s 2ms/step - loss: 0.3910 - accuracy: 0.8181 - val_loss: 0.3420 - val_accuracy: 1.0000\n",
            "Epoch 258/350\n",
            "382/382 [==============================] - 1s 2ms/step - loss: 0.3871 - accuracy: 0.8141 - val_loss: 0.4744 - val_accuracy: 1.0000\n",
            "Epoch 259/350\n",
            "382/382 [==============================] - 1s 2ms/step - loss: 0.3905 - accuracy: 0.8259 - val_loss: 0.2243 - val_accuracy: 1.0000\n",
            "Epoch 260/350\n",
            "382/382 [==============================] - 1s 2ms/step - loss: 0.3870 - accuracy: 0.8220 - val_loss: 0.3390 - val_accuracy: 1.0000\n",
            "Epoch 261/350\n",
            "382/382 [==============================] - 1s 2ms/step - loss: 0.3901 - accuracy: 0.8168 - val_loss: 0.3621 - val_accuracy: 1.0000\n",
            "Epoch 262/350\n",
            "382/382 [==============================] - 1s 2ms/step - loss: 0.3832 - accuracy: 0.8272 - val_loss: 0.2616 - val_accuracy: 1.0000\n",
            "Epoch 263/350\n",
            "382/382 [==============================] - 1s 2ms/step - loss: 0.3849 - accuracy: 0.8233 - val_loss: 0.1417 - val_accuracy: 1.0000\n",
            "Epoch 264/350\n",
            "382/382 [==============================] - 1s 2ms/step - loss: 0.3889 - accuracy: 0.8010 - val_loss: 0.2579 - val_accuracy: 1.0000\n",
            "Epoch 265/350\n",
            "382/382 [==============================] - 1s 2ms/step - loss: 0.3861 - accuracy: 0.8128 - val_loss: 0.3030 - val_accuracy: 1.0000\n",
            "Epoch 266/350\n",
            "382/382 [==============================] - 1s 2ms/step - loss: 0.3836 - accuracy: 0.8246 - val_loss: 0.3154 - val_accuracy: 1.0000\n",
            "Epoch 267/350\n",
            "382/382 [==============================] - 1s 2ms/step - loss: 0.3912 - accuracy: 0.8154 - val_loss: 0.2397 - val_accuracy: 1.0000\n",
            "Epoch 268/350\n",
            "382/382 [==============================] - 1s 2ms/step - loss: 0.3837 - accuracy: 0.8181 - val_loss: 0.2970 - val_accuracy: 1.0000\n",
            "Epoch 269/350\n",
            "382/382 [==============================] - 1s 2ms/step - loss: 0.3834 - accuracy: 0.8115 - val_loss: 0.1808 - val_accuracy: 1.0000\n",
            "Epoch 270/350\n",
            "382/382 [==============================] - 1s 2ms/step - loss: 0.3786 - accuracy: 0.8207 - val_loss: 0.1286 - val_accuracy: 1.0000\n",
            "Epoch 271/350\n",
            "382/382 [==============================] - 1s 2ms/step - loss: 0.3859 - accuracy: 0.8207 - val_loss: 0.2413 - val_accuracy: 1.0000\n",
            "Epoch 272/350\n",
            "382/382 [==============================] - 1s 2ms/step - loss: 0.3818 - accuracy: 0.8154 - val_loss: 0.2435 - val_accuracy: 1.0000\n",
            "Epoch 273/350\n",
            "382/382 [==============================] - 1s 2ms/step - loss: 0.3733 - accuracy: 0.8246 - val_loss: 0.1715 - val_accuracy: 1.0000\n",
            "Epoch 274/350\n",
            "382/382 [==============================] - 1s 2ms/step - loss: 0.3850 - accuracy: 0.8181 - val_loss: 0.5612 - val_accuracy: 1.0000\n",
            "Epoch 275/350\n",
            "382/382 [==============================] - 1s 2ms/step - loss: 0.3806 - accuracy: 0.8194 - val_loss: 0.1749 - val_accuracy: 1.0000\n",
            "Epoch 276/350\n",
            "382/382 [==============================] - 1s 2ms/step - loss: 0.3849 - accuracy: 0.8102 - val_loss: 0.1705 - val_accuracy: 1.0000\n",
            "Epoch 277/350\n",
            "382/382 [==============================] - 1s 2ms/step - loss: 0.3832 - accuracy: 0.8220 - val_loss: 0.3220 - val_accuracy: 1.0000\n",
            "Epoch 278/350\n",
            "382/382 [==============================] - 1s 2ms/step - loss: 0.3770 - accuracy: 0.8272 - val_loss: 0.1811 - val_accuracy: 1.0000\n",
            "Epoch 279/350\n",
            "382/382 [==============================] - 1s 2ms/step - loss: 0.3835 - accuracy: 0.8220 - val_loss: 0.3651 - val_accuracy: 1.0000\n",
            "Epoch 280/350\n",
            "382/382 [==============================] - 1s 2ms/step - loss: 0.3849 - accuracy: 0.8141 - val_loss: 0.2794 - val_accuracy: 1.0000\n",
            "Epoch 281/350\n",
            "382/382 [==============================] - 1s 2ms/step - loss: 0.3772 - accuracy: 0.8246 - val_loss: 0.1638 - val_accuracy: 1.0000\n",
            "Epoch 282/350\n",
            "382/382 [==============================] - 1s 2ms/step - loss: 0.3762 - accuracy: 0.8272 - val_loss: 0.1744 - val_accuracy: 1.0000\n",
            "Epoch 283/350\n",
            "382/382 [==============================] - 1s 2ms/step - loss: 0.3765 - accuracy: 0.8194 - val_loss: 0.2087 - val_accuracy: 1.0000\n",
            "Epoch 284/350\n",
            "382/382 [==============================] - 1s 2ms/step - loss: 0.3829 - accuracy: 0.8259 - val_loss: 0.1934 - val_accuracy: 1.0000\n",
            "Epoch 285/350\n",
            "382/382 [==============================] - 1s 2ms/step - loss: 0.3803 - accuracy: 0.8312 - val_loss: 0.2890 - val_accuracy: 1.0000\n",
            "Epoch 286/350\n",
            "382/382 [==============================] - 1s 2ms/step - loss: 0.3760 - accuracy: 0.8259 - val_loss: 0.2780 - val_accuracy: 1.0000\n",
            "Epoch 287/350\n",
            "382/382 [==============================] - 1s 2ms/step - loss: 0.3798 - accuracy: 0.8298 - val_loss: 0.3598 - val_accuracy: 1.0000\n",
            "Epoch 288/350\n",
            "382/382 [==============================] - 1s 2ms/step - loss: 0.3776 - accuracy: 0.8220 - val_loss: 0.1391 - val_accuracy: 1.0000\n",
            "Epoch 289/350\n",
            "382/382 [==============================] - 1s 2ms/step - loss: 0.3795 - accuracy: 0.8220 - val_loss: 0.2560 - val_accuracy: 1.0000\n",
            "Epoch 290/350\n",
            "382/382 [==============================] - 1s 2ms/step - loss: 0.3781 - accuracy: 0.8285 - val_loss: 0.1489 - val_accuracy: 1.0000\n",
            "Epoch 291/350\n",
            "382/382 [==============================] - 1s 2ms/step - loss: 0.3814 - accuracy: 0.8285 - val_loss: 0.5174 - val_accuracy: 1.0000\n",
            "Epoch 292/350\n",
            "382/382 [==============================] - 1s 2ms/step - loss: 0.3764 - accuracy: 0.8207 - val_loss: 0.5120 - val_accuracy: 1.0000\n",
            "Epoch 293/350\n",
            "382/382 [==============================] - 1s 2ms/step - loss: 0.3764 - accuracy: 0.8246 - val_loss: 0.3809 - val_accuracy: 1.0000\n",
            "Epoch 294/350\n",
            "382/382 [==============================] - 1s 2ms/step - loss: 0.3695 - accuracy: 0.8377 - val_loss: 0.3577 - val_accuracy: 1.0000\n",
            "Epoch 295/350\n",
            "382/382 [==============================] - 1s 2ms/step - loss: 0.3817 - accuracy: 0.8272 - val_loss: 0.3266 - val_accuracy: 1.0000\n",
            "Epoch 296/350\n",
            "382/382 [==============================] - 1s 2ms/step - loss: 0.3722 - accuracy: 0.8351 - val_loss: 0.4594 - val_accuracy: 1.0000\n",
            "Epoch 297/350\n",
            "382/382 [==============================] - 1s 2ms/step - loss: 0.3657 - accuracy: 0.8338 - val_loss: 0.4164 - val_accuracy: 1.0000\n",
            "Epoch 298/350\n",
            "382/382 [==============================] - 1s 2ms/step - loss: 0.3737 - accuracy: 0.8298 - val_loss: 0.1718 - val_accuracy: 1.0000\n",
            "Epoch 299/350\n",
            "382/382 [==============================] - 1s 2ms/step - loss: 0.3711 - accuracy: 0.8298 - val_loss: 0.7152 - val_accuracy: 0.5000\n",
            "Epoch 300/350\n",
            "382/382 [==============================] - 1s 2ms/step - loss: 0.3873 - accuracy: 0.8259 - val_loss: 0.2272 - val_accuracy: 1.0000\n",
            "Epoch 301/350\n",
            "382/382 [==============================] - 1s 2ms/step - loss: 0.3824 - accuracy: 0.8246 - val_loss: 0.2880 - val_accuracy: 1.0000\n",
            "Epoch 302/350\n",
            "382/382 [==============================] - 1s 2ms/step - loss: 0.3726 - accuracy: 0.8259 - val_loss: 0.2386 - val_accuracy: 1.0000\n",
            "Epoch 303/350\n",
            "382/382 [==============================] - 1s 2ms/step - loss: 0.3720 - accuracy: 0.8285 - val_loss: 0.1383 - val_accuracy: 1.0000\n",
            "Epoch 304/350\n",
            "382/382 [==============================] - 1s 2ms/step - loss: 0.3687 - accuracy: 0.8325 - val_loss: 0.0964 - val_accuracy: 1.0000\n",
            "Epoch 305/350\n",
            "382/382 [==============================] - 1s 2ms/step - loss: 0.3685 - accuracy: 0.8272 - val_loss: 0.1698 - val_accuracy: 1.0000\n",
            "Epoch 306/350\n",
            "382/382 [==============================] - 1s 2ms/step - loss: 0.3760 - accuracy: 0.8403 - val_loss: 0.2190 - val_accuracy: 1.0000\n",
            "Epoch 307/350\n",
            "382/382 [==============================] - 1s 2ms/step - loss: 0.3686 - accuracy: 0.8220 - val_loss: 0.0795 - val_accuracy: 1.0000\n",
            "Epoch 308/350\n",
            "382/382 [==============================] - 1s 2ms/step - loss: 0.3751 - accuracy: 0.8390 - val_loss: 0.1906 - val_accuracy: 1.0000\n",
            "Epoch 309/350\n",
            "382/382 [==============================] - 1s 2ms/step - loss: 0.3711 - accuracy: 0.8364 - val_loss: 0.2741 - val_accuracy: 1.0000\n",
            "Epoch 310/350\n",
            "382/382 [==============================] - 1s 2ms/step - loss: 0.3754 - accuracy: 0.8338 - val_loss: 0.2587 - val_accuracy: 1.0000\n",
            "Epoch 311/350\n",
            "382/382 [==============================] - 1s 2ms/step - loss: 0.3706 - accuracy: 0.8246 - val_loss: 0.3787 - val_accuracy: 1.0000\n",
            "Epoch 312/350\n",
            "382/382 [==============================] - 1s 2ms/step - loss: 0.3702 - accuracy: 0.8377 - val_loss: 0.1783 - val_accuracy: 1.0000\n",
            "Epoch 313/350\n",
            "382/382 [==============================] - 1s 2ms/step - loss: 0.3729 - accuracy: 0.8220 - val_loss: 0.2384 - val_accuracy: 1.0000\n",
            "Epoch 314/350\n",
            "382/382 [==============================] - 1s 2ms/step - loss: 0.3639 - accuracy: 0.8325 - val_loss: 0.2738 - val_accuracy: 1.0000\n",
            "Epoch 315/350\n",
            "382/382 [==============================] - 1s 2ms/step - loss: 0.3727 - accuracy: 0.8403 - val_loss: 0.1877 - val_accuracy: 1.0000\n",
            "Epoch 316/350\n",
            "382/382 [==============================] - 1s 2ms/step - loss: 0.3680 - accuracy: 0.8403 - val_loss: 0.2743 - val_accuracy: 1.0000\n",
            "Epoch 317/350\n",
            "382/382 [==============================] - 1s 2ms/step - loss: 0.3703 - accuracy: 0.8403 - val_loss: 0.2351 - val_accuracy: 1.0000\n",
            "Epoch 318/350\n",
            "382/382 [==============================] - 1s 2ms/step - loss: 0.3616 - accuracy: 0.8390 - val_loss: 0.1806 - val_accuracy: 1.0000\n",
            "Epoch 319/350\n",
            "382/382 [==============================] - 1s 2ms/step - loss: 0.3729 - accuracy: 0.8364 - val_loss: 0.1607 - val_accuracy: 1.0000\n",
            "Epoch 320/350\n",
            "382/382 [==============================] - 1s 2ms/step - loss: 0.3647 - accuracy: 0.8416 - val_loss: 0.1838 - val_accuracy: 1.0000\n",
            "Epoch 321/350\n",
            "382/382 [==============================] - 1s 2ms/step - loss: 0.3699 - accuracy: 0.8312 - val_loss: 0.2208 - val_accuracy: 1.0000\n",
            "Epoch 322/350\n",
            "382/382 [==============================] - 1s 2ms/step - loss: 0.3639 - accuracy: 0.8442 - val_loss: 0.2208 - val_accuracy: 1.0000\n",
            "Epoch 323/350\n",
            "382/382 [==============================] - 1s 2ms/step - loss: 0.3666 - accuracy: 0.8338 - val_loss: 0.1883 - val_accuracy: 1.0000\n",
            "Epoch 324/350\n",
            "382/382 [==============================] - 1s 2ms/step - loss: 0.3658 - accuracy: 0.8364 - val_loss: 0.4052 - val_accuracy: 1.0000\n",
            "Epoch 325/350\n",
            "382/382 [==============================] - 1s 2ms/step - loss: 0.3651 - accuracy: 0.8325 - val_loss: 0.1359 - val_accuracy: 1.0000\n",
            "Epoch 326/350\n",
            "382/382 [==============================] - 1s 2ms/step - loss: 0.3643 - accuracy: 0.8272 - val_loss: 0.2147 - val_accuracy: 1.0000\n",
            "Epoch 327/350\n",
            "382/382 [==============================] - 1s 2ms/step - loss: 0.3686 - accuracy: 0.8364 - val_loss: 0.1357 - val_accuracy: 1.0000\n",
            "Epoch 328/350\n",
            "382/382 [==============================] - 1s 2ms/step - loss: 0.3675 - accuracy: 0.8390 - val_loss: 0.1638 - val_accuracy: 1.0000\n",
            "Epoch 329/350\n",
            "382/382 [==============================] - 1s 2ms/step - loss: 0.3572 - accuracy: 0.8285 - val_loss: 0.3377 - val_accuracy: 1.0000\n",
            "Epoch 330/350\n",
            "382/382 [==============================] - 1s 2ms/step - loss: 0.3626 - accuracy: 0.8469 - val_loss: 0.2584 - val_accuracy: 1.0000\n",
            "Epoch 331/350\n",
            "382/382 [==============================] - 1s 2ms/step - loss: 0.3619 - accuracy: 0.8403 - val_loss: 0.3486 - val_accuracy: 1.0000\n",
            "Epoch 332/350\n",
            "382/382 [==============================] - 1s 2ms/step - loss: 0.3581 - accuracy: 0.8364 - val_loss: 0.4176 - val_accuracy: 1.0000\n",
            "Epoch 333/350\n",
            "382/382 [==============================] - 1s 2ms/step - loss: 0.3600 - accuracy: 0.8429 - val_loss: 0.2030 - val_accuracy: 1.0000\n",
            "Epoch 334/350\n",
            "382/382 [==============================] - 1s 2ms/step - loss: 0.3604 - accuracy: 0.8259 - val_loss: 0.2130 - val_accuracy: 1.0000\n",
            "Epoch 335/350\n",
            "382/382 [==============================] - 1s 2ms/step - loss: 0.3681 - accuracy: 0.8338 - val_loss: 0.1592 - val_accuracy: 1.0000\n",
            "Epoch 336/350\n",
            "382/382 [==============================] - 1s 2ms/step - loss: 0.3613 - accuracy: 0.8364 - val_loss: 0.1984 - val_accuracy: 1.0000\n",
            "Epoch 337/350\n",
            "382/382 [==============================] - 1s 2ms/step - loss: 0.3682 - accuracy: 0.8351 - val_loss: 0.1850 - val_accuracy: 1.0000\n",
            "Epoch 338/350\n",
            "382/382 [==============================] - 1s 2ms/step - loss: 0.3536 - accuracy: 0.8534 - val_loss: 0.5817 - val_accuracy: 1.0000\n",
            "Epoch 339/350\n",
            "382/382 [==============================] - 1s 2ms/step - loss: 0.3614 - accuracy: 0.8325 - val_loss: 0.1947 - val_accuracy: 1.0000\n",
            "Epoch 340/350\n",
            "382/382 [==============================] - 1s 2ms/step - loss: 0.3540 - accuracy: 0.8429 - val_loss: 0.1810 - val_accuracy: 1.0000\n",
            "Epoch 341/350\n",
            "382/382 [==============================] - 1s 2ms/step - loss: 0.3637 - accuracy: 0.8469 - val_loss: 0.1410 - val_accuracy: 1.0000\n",
            "Epoch 342/350\n",
            "382/382 [==============================] - 1s 2ms/step - loss: 0.3626 - accuracy: 0.8298 - val_loss: 0.1738 - val_accuracy: 1.0000\n",
            "Epoch 343/350\n",
            "382/382 [==============================] - 1s 2ms/step - loss: 0.3615 - accuracy: 0.8364 - val_loss: 0.0632 - val_accuracy: 1.0000\n",
            "Epoch 344/350\n",
            "382/382 [==============================] - 1s 2ms/step - loss: 0.3620 - accuracy: 0.8390 - val_loss: 0.2903 - val_accuracy: 1.0000\n",
            "Epoch 345/350\n",
            "382/382 [==============================] - 1s 2ms/step - loss: 0.3583 - accuracy: 0.8377 - val_loss: 0.1223 - val_accuracy: 1.0000\n",
            "Epoch 346/350\n",
            "382/382 [==============================] - 1s 2ms/step - loss: 0.3582 - accuracy: 0.8469 - val_loss: 0.1657 - val_accuracy: 1.0000\n",
            "Epoch 347/350\n",
            "382/382 [==============================] - 1s 2ms/step - loss: 0.3560 - accuracy: 0.8364 - val_loss: 0.1335 - val_accuracy: 1.0000\n",
            "Epoch 348/350\n",
            "382/382 [==============================] - 1s 2ms/step - loss: 0.3634 - accuracy: 0.8377 - val_loss: 0.0688 - val_accuracy: 1.0000\n",
            "Epoch 349/350\n",
            "382/382 [==============================] - 1s 2ms/step - loss: 0.3627 - accuracy: 0.8259 - val_loss: 0.1137 - val_accuracy: 1.0000\n",
            "Epoch 350/350\n",
            "382/382 [==============================] - 1s 2ms/step - loss: 0.3525 - accuracy: 0.8364 - val_loss: 0.1758 - val_accuracy: 1.0000\n"
          ]
        }
      ]
    },
    {
      "cell_type": "markdown",
      "metadata": {
        "id": "80o1i3fzZsA-"
      },
      "source": [
        "**11. Plot the training loss and accuracy**"
      ]
    },
    {
      "cell_type": "code",
      "source": [
        "import matplotlib.pyplot as plt \n",
        "acc = hist.history['accuracy']\n",
        "val_acc = hist.history['val_accuracy']\n",
        "loss = hist.history['loss']\n",
        "val_loss = hist.history['val_loss']\n",
        " \n",
        "epochs = range(len(acc))\n",
        " \n",
        "plt.plot(epochs, acc, 'b', label='Training acc')\n",
        "plt.plot(epochs, val_acc, 'r', label='Validation acc')\n",
        "plt.title('Training and validation accuracy')\n",
        "plt.legend()\n",
        "plt.savefig('custom_trainvalacc.png')\n",
        "plt.figure()\n",
        " \n",
        "plt.plot(epochs, loss, 'b', label='Training loss')\n",
        "plt.plot(epochs, val_loss, 'r', label='Validation loss')\n",
        "plt.title('Training and validation loss')\n",
        "plt.legend()\n",
        " \n",
        "#plt.show()\n",
        "plt.savefig('custom_trainvalloss.png')\n",
        "plt.figure()"
      ],
      "metadata": {
        "colab": {
          "base_uri": "https://localhost:8080/",
          "height": 580
        },
        "id": "69dOEi6HAiXT",
        "outputId": "1f1deed7-5063-4a6c-9ea0-765b0fcf810e"
      },
      "execution_count": 41,
      "outputs": [
        {
          "output_type": "execute_result",
          "data": {
            "text/plain": [
              "<Figure size 432x288 with 0 Axes>"
            ]
          },
          "metadata": {},
          "execution_count": 41
        },
        {
          "output_type": "display_data",
          "data": {
            "text/plain": [
              "<Figure size 432x288 with 1 Axes>"
            ],
            "image/png": "[encoded data removed]"
          },
          "metadata": {
            "needs_background": "light"
          }
        },
        {
          "output_type": "display_data",
          "data": {
            "text/plain": [
              "<Figure size 432x288 with 1 Axes>"
            ],
            "image/png": "[encoded data removed]"
          },
          "metadata": {
            "needs_background": "light"
          }
        },
        {
          "output_type": "display_data",
          "data": {
            "text/plain": [
              "<Figure size 432x288 with 0 Axes>"
            ]
          },
          "metadata": {}
        }
      ]
    },
    {
      "cell_type": "markdown",
      "metadata": {
        "id": "a8fUXoqeZvwf"
      },
      "source": [
        "**12. Evaluate the performance**"
      ]
    },
    {
      "cell_type": "code",
      "metadata": {
        "colab": {
          "base_uri": "https://localhost:8080/"
        },
        "id": "wawHhkURYMLE",
        "outputId": "7e135ad7-dab8-4f8e-a0d5-7faf33d7fcf0"
      },
      "source": [
        "res =model.evaluate(X_testing, Y_testing)"
      ],
      "execution_count": 42,
      "outputs": [
        {
          "output_type": "stream",
          "name": "stdout",
          "text": [
            "1/1 [==============================] - 0s 149ms/step - loss: 0.4108 - accuracy: 0.5000\n"
          ]
        }
      ]
    },
    {
      "cell_type": "markdown",
      "metadata": {
        "id": "0WCSw36oZyG_"
      },
      "source": [
        "**13. Predict on new datatset**\n"
      ]
    },
    {
      "cell_type": "code",
      "metadata": {
        "colab": {
          "base_uri": "https://localhost:8080/"
        },
        "id": "CcE27mGFYo3G",
        "outputId": "84e15f12-6214-47b4-c0dd-6983baa625cb"
      },
      "source": [
        "test=X_testing[0]\n",
        "y_act=Y_testing[0]\n",
        "result=model.predict(test.reshape(1,8))\n",
        "result"
      ],
      "execution_count": 43,
      "outputs": [
        {
          "output_type": "execute_result",
          "data": {
            "text/plain": [
              "array([[0.49960312, 0.50039685]], dtype=float32)"
            ]
          },
          "metadata": {},
          "execution_count": 43
        }
      ]
    },
    {
      "cell_type": "code",
      "metadata": {
        "colab": {
          "base_uri": "https://localhost:8080/"
        },
        "id": "T4RDC-ZHYqv_",
        "outputId": "208478cf-165a-4af7-bb0a-737a54d1d185"
      },
      "source": [
        "import numpy as np\n",
        "y_pred = np.round(result)\n",
        "print(\"Actual:\"+ str(y_act))\n",
        "print(\"Predicted:\"+str(y_pred))"
      ],
      "execution_count": 44,
      "outputs": [
        {
          "output_type": "stream",
          "name": "stdout",
          "text": [
            "Actual:[1. 0.]\n",
            "Predicted:[[0. 1.]]\n"
          ]
        }
      ]
    },
    {
      "cell_type": "markdown",
      "metadata": {
        "id": "E9mMqJtXYz2Q"
      },
      "source": [
        "**Reference:** - https://keras.io/"
      ]
    }
  ]
}