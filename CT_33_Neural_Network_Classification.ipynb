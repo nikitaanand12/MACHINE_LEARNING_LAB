{
  "nbformat": 4,
  "nbformat_minor": 0,
  "metadata": {
    "colab": {
      "name": "CT-33_Neural_Network_Classification.ipynb",
      "provenance": [],
      "collapsed_sections": [],
      "include_colab_link": true
    },
    "kernelspec": {
      "name": "python3",
      "display_name": "Python 3"
    },
    "language_info": {
      "name": "python"
    }
  },
  "cells": [
    {
      "cell_type": "markdown",
      "metadata": {
        "id": "view-in-github",
        "colab_type": "text"
      },
      "source": [
        "<a href=\"https://colab.research.google.com/github/nikitaanand12/MACHINE_LEARNING_LAB/blob/main/CT_33_Neural_Network_Classification.ipynb\" target=\"_parent\"><img src=\"https://colab.research.google.com/assets/colab-badge.svg\" alt=\"Open In Colab\"/></a>"
      ]
    },
    {
      "cell_type": "markdown",
      "metadata": {
        "id": "nhPEM4IUoDKA"
      },
      "source": [
        "CO CST IMPLEMENTATION OF NEURAL NETWORK\n",
        "\n"
      ]
    },
    {
      "cell_type": "code",
      "source": [
        ""
      ],
      "metadata": {
        "id": "bDN6Un_6rAR9"
      },
      "execution_count": 27,
      "outputs": []
    },
    {
      "cell_type": "markdown",
      "metadata": {
        "id": "ZpJe0cAaoG98"
      },
      "source": [
        "# Tutorial 3: Neural Network Classification"
      ]
    },
    {
      "cell_type": "markdown",
      "metadata": {
        "id": "dIT7QrK2PwdM"
      },
      "source": [
        "Dataset: [Pima Indian Diabetes Dataset](https://data.world/data-society/pima-indians-diabetes-database#)\n",
        "\n",
        "This dataset is originally from the National Institute of Diabetes and Digestive and Kidney Diseases. The objective is to predict based on diagnostic measurements whether a patient has diabetes.\n",
        "\n",
        "Several constraints were placed on the selection of these instances from a larger database. In particular, all patients here are females at least 21 years old of Pima Indian heritage.\n",
        "\n",
        "Attributes of PIMA dataset:\n",
        "\n",
        "**Pregnancies**: Number of times pregnant\n",
        "\n",
        "**Glucose**: Plasma glucose concentration a 2 hours in an oral glucose tolerance test\n",
        "\n",
        "**BloodPressure**: Diastolic blood pressure (mm Hg)\n",
        "\n",
        "**SkinThickness**: Triceps skin fold thickness (mm)\n",
        "\n",
        "**Insulin**: 2-Hour serum insulin (mu U/ml)\n",
        "\n",
        "**BMI**: Body mass index (weight in kg/(height in m)^2)\n",
        "\n",
        "**DiabetesPedigreeFunction**: Diabetes pedigree function\n",
        "\n",
        "**Age**: Age (years)\n",
        "\n",
        "**Outcome**: Class variable (0 or 1)"
      ]
    },
    {
      "cell_type": "markdown",
      "metadata": {
        "id": "FIAgs3sTY712"
      },
      "source": [
        "**1. Mount the Google Drive**"
      ]
    },
    {
      "cell_type": "code",
      "metadata": {
        "id": "CrZg_G5MQ4L5",
        "colab": {
          "base_uri": "https://localhost:8080/"
        },
        "outputId": "2909080a-a2fb-44fb-bfd6-f070b1efe87a"
      },
      "source": [
        "from google.colab import drive\n",
        "drive.mount('/content/drive')"
      ],
      "execution_count": 28,
      "outputs": [
        {
          "output_type": "stream",
          "name": "stdout",
          "text": [
            "Drive already mounted at /content/drive; to attempt to forcibly remount, call drive.mount(\"/content/drive\", force_remount=True).\n"
          ]
        }
      ]
    },
    {
      "cell_type": "markdown",
      "metadata": {
        "id": "CqAhYoWHZAwg"
      },
      "source": [
        "**2. Move to the place where data resides**"
      ]
    },
    {
      "cell_type": "code",
      "metadata": {
        "colab": {
          "base_uri": "https://localhost:8080/"
        },
        "id": "TjgG_3CiP4eQ",
        "outputId": "7af1be53-9f24-4477-8c73-94185d9c9338"
      },
      "source": [
        "%cd /content/drive/MyDrive"
      ],
      "execution_count": 29,
      "outputs": [
        {
          "output_type": "stream",
          "name": "stdout",
          "text": [
            "/content/drive/MyDrive\n"
          ]
        }
      ]
    },
    {
      "cell_type": "code",
      "source": [
        "!ls"
      ],
      "metadata": {
        "id": "S-KhHH_xATY8",
        "colab": {
          "base_uri": "https://localhost:8080/"
        },
        "outputId": "a60aa430-7984-4ab7-d32c-7cc6324a49af"
      },
      "execution_count": 30,
      "outputs": [
        {
          "output_type": "stream",
          "name": "stdout",
          "text": [
            "'Anti ragging form.pdf'\n",
            "'Assignment No_01.ipynb'\n",
            "'CamScanner 05-27-2020 15.50.29.pdf'\n",
            "'CamScanner 05-28-2020 16.36.12.pdf'\n",
            "'CASE STUDY OF R CT-48.docx'\n",
            " Classroom\n",
            "'CN Assignment_01_CT-33.pdf'\n",
            "'Colab Notebooks'\n",
            "'COMPUTER  WORKSHOP ASSIGNMENT.docx'\n",
            "'COMPUTER WORKSHOP PRACTICALS (1).docx'\n",
            "'COMPUTER WORKSHOP PRACTICALS.docx'\n",
            " custom_trainvalacc.png\n",
            " custom_trainvalloss.png\n",
            "'Cybersecurity_Foundation_Student_Certificate_Nikita Anand.pdf'\n",
            " diabetes.csv\n",
            "'Digital circuit Design,CS 3003, lab manual.gdoc'\n",
            "'DIGITAL SYSTEM LAB FILE.pdf'\n",
            "'Discrete Structure (Assignment No. 2).pdf'\n",
            "'Discrete Structure (Assignment No. 3).pdf'\n",
            "'DS File-CT-48.docx'\n",
            "'DS Lab file.docx'\n",
            "'Getting started.pdf'\n",
            " IT-WORKSHOP-LAB.gdoc\n",
            " IT-WORKSHOP-LAB.pdf\n",
            "'IWT Assignment 03_0827CT191033'\n",
            " Kaggle_import_Dataset.ipynb\n",
            "'Linear Regression .ipynb'\n",
            " LinearRegression_with_csv.ipynb\n",
            "'LINUX LAB_CT-33'\n",
            "'MINOR _PROJECT_PROGRESS_REPORT'\n",
            " MINOR_PROJECT_SYNOPSIS.docx\n",
            " Ml_Basics_II.ipynb\n",
            " ML_BASICS_I.ipynb\n",
            "'ML Basics.ipynb'\n",
            "'Module 2 Ecosystem.gslides'\n",
            "'New Doc 2020-04-17 12.04.16.pdf'\n",
            "'New Doc 2020-12-28 11.13.45_FlashScan.pdf'\n",
            "'Nikita Anand(033).pdf'\n",
            "'Nikita Anand (0827CT191033) Mealy Lab assign 03.docx'\n",
            "'Nikita Anand (CT-33) MST-1.docx'\n",
            " NikitaJI.r\n",
            " Screenshot_2021-12-30-00-40-04-15_99c04817c0de5652397fc8b56c3b3817.jpg\n",
            "'Share COMPUTER WORKSHOP PRACTICALS.docx'\n",
            "'Simran Documemt'\n",
            "'space exploration_1.jpg'\n",
            " Untitled0.ipynb\n",
            " Untitled1.ipynb\n"
          ]
        }
      ]
    },
    {
      "cell_type": "code",
      "source": [
        ""
      ],
      "metadata": {
        "id": "f65jHMx2I_1O"
      },
      "execution_count": 30,
      "outputs": []
    },
    {
      "cell_type": "markdown",
      "metadata": {
        "id": "VKvfswsOZLUB"
      },
      "source": [
        "**3. Read the dataset from CSV file**"
      ]
    },
    {
      "cell_type": "code",
      "metadata": {
        "colab": {
          "base_uri": "https://localhost:8080/",
          "height": 363
        },
        "id": "32nNonRSSaQq",
        "outputId": "762209b9-9e2c-40b2-c187-5593b322f290"
      },
      "source": [
        "import pandas as pd\n",
        "data = pd.read_csv('diabetes.csv')\n",
        "data.head(10)"
      ],
      "execution_count": 31,
      "outputs": [
        {
          "output_type": "execute_result",
          "data": {
            "text/plain": [
              "   Pregnancies  Glucose  BloodPressure  SkinThickness  Insulin   BMI  \\\n",
              "0            6      148             72             35        0  33.6   \n",
              "1            1       85             66             29        0  26.6   \n",
              "2            8      183             64              0        0  23.3   \n",
              "3            1       89             66             23       94  28.1   \n",
              "4            0      137             40             35      168  43.1   \n",
              "5            5      116             74              0        0  25.6   \n",
              "6            3       78             50             32       88  31.0   \n",
              "7           10      115              0              0        0  35.3   \n",
              "8            2      197             70             45      543  30.5   \n",
              "9            8      125             96              0        0   0.0   \n",
              "\n",
              "   DiabetesPedigreeFunction  Age  Outcome  \n",
              "0                     0.627   50        1  \n",
              "1                     0.351   31        0  \n",
              "2                     0.672   32        1  \n",
              "3                     0.167   21        0  \n",
              "4                     2.288   33        1  \n",
              "5                     0.201   30        0  \n",
              "6                     0.248   26        1  \n",
              "7                     0.134   29        0  \n",
              "8                     0.158   53        1  \n",
              "9                     0.232   54        1  "
            ],
            "text/html": [
              "\n",
              "  <div id=\"df-629d25ec-3ddf-48e1-8fed-c471e6b9dcdf\">\n",
              "    <div class=\"colab-df-container\">\n",
              "      <div>\n",
              "<style scoped>\n",
              "    .dataframe tbody tr th:only-of-type {\n",
              "        vertical-align: middle;\n",
              "    }\n",
              "\n",
              "    .dataframe tbody tr th {\n",
              "        vertical-align: top;\n",
              "    }\n",
              "\n",
              "    .dataframe thead th {\n",
              "        text-align: right;\n",
              "    }\n",
              "</style>\n",
              "<table border=\"1\" class=\"dataframe\">\n",
              "  <thead>\n",
              "    <tr style=\"text-align: right;\">\n",
              "      <th></th>\n",
              "      <th>Pregnancies</th>\n",
              "      <th>Glucose</th>\n",
              "      <th>BloodPressure</th>\n",
              "      <th>SkinThickness</th>\n",
              "      <th>Insulin</th>\n",
              "      <th>BMI</th>\n",
              "      <th>DiabetesPedigreeFunction</th>\n",
              "      <th>Age</th>\n",
              "      <th>Outcome</th>\n",
              "    </tr>\n",
              "  </thead>\n",
              "  <tbody>\n",
              "    <tr>\n",
              "      <th>0</th>\n",
              "      <td>6</td>\n",
              "      <td>148</td>\n",
              "      <td>72</td>\n",
              "      <td>35</td>\n",
              "      <td>0</td>\n",
              "      <td>33.6</td>\n",
              "      <td>0.627</td>\n",
              "      <td>50</td>\n",
              "      <td>1</td>\n",
              "    </tr>\n",
              "    <tr>\n",
              "      <th>1</th>\n",
              "      <td>1</td>\n",
              "      <td>85</td>\n",
              "      <td>66</td>\n",
              "      <td>29</td>\n",
              "      <td>0</td>\n",
              "      <td>26.6</td>\n",
              "      <td>0.351</td>\n",
              "      <td>31</td>\n",
              "      <td>0</td>\n",
              "    </tr>\n",
              "    <tr>\n",
              "      <th>2</th>\n",
              "      <td>8</td>\n",
              "      <td>183</td>\n",
              "      <td>64</td>\n",
              "      <td>0</td>\n",
              "      <td>0</td>\n",
              "      <td>23.3</td>\n",
              "      <td>0.672</td>\n",
              "      <td>32</td>\n",
              "      <td>1</td>\n",
              "    </tr>\n",
              "    <tr>\n",
              "      <th>3</th>\n",
              "      <td>1</td>\n",
              "      <td>89</td>\n",
              "      <td>66</td>\n",
              "      <td>23</td>\n",
              "      <td>94</td>\n",
              "      <td>28.1</td>\n",
              "      <td>0.167</td>\n",
              "      <td>21</td>\n",
              "      <td>0</td>\n",
              "    </tr>\n",
              "    <tr>\n",
              "      <th>4</th>\n",
              "      <td>0</td>\n",
              "      <td>137</td>\n",
              "      <td>40</td>\n",
              "      <td>35</td>\n",
              "      <td>168</td>\n",
              "      <td>43.1</td>\n",
              "      <td>2.288</td>\n",
              "      <td>33</td>\n",
              "      <td>1</td>\n",
              "    </tr>\n",
              "    <tr>\n",
              "      <th>5</th>\n",
              "      <td>5</td>\n",
              "      <td>116</td>\n",
              "      <td>74</td>\n",
              "      <td>0</td>\n",
              "      <td>0</td>\n",
              "      <td>25.6</td>\n",
              "      <td>0.201</td>\n",
              "      <td>30</td>\n",
              "      <td>0</td>\n",
              "    </tr>\n",
              "    <tr>\n",
              "      <th>6</th>\n",
              "      <td>3</td>\n",
              "      <td>78</td>\n",
              "      <td>50</td>\n",
              "      <td>32</td>\n",
              "      <td>88</td>\n",
              "      <td>31.0</td>\n",
              "      <td>0.248</td>\n",
              "      <td>26</td>\n",
              "      <td>1</td>\n",
              "    </tr>\n",
              "    <tr>\n",
              "      <th>7</th>\n",
              "      <td>10</td>\n",
              "      <td>115</td>\n",
              "      <td>0</td>\n",
              "      <td>0</td>\n",
              "      <td>0</td>\n",
              "      <td>35.3</td>\n",
              "      <td>0.134</td>\n",
              "      <td>29</td>\n",
              "      <td>0</td>\n",
              "    </tr>\n",
              "    <tr>\n",
              "      <th>8</th>\n",
              "      <td>2</td>\n",
              "      <td>197</td>\n",
              "      <td>70</td>\n",
              "      <td>45</td>\n",
              "      <td>543</td>\n",
              "      <td>30.5</td>\n",
              "      <td>0.158</td>\n",
              "      <td>53</td>\n",
              "      <td>1</td>\n",
              "    </tr>\n",
              "    <tr>\n",
              "      <th>9</th>\n",
              "      <td>8</td>\n",
              "      <td>125</td>\n",
              "      <td>96</td>\n",
              "      <td>0</td>\n",
              "      <td>0</td>\n",
              "      <td>0.0</td>\n",
              "      <td>0.232</td>\n",
              "      <td>54</td>\n",
              "      <td>1</td>\n",
              "    </tr>\n",
              "  </tbody>\n",
              "</table>\n",
              "</div>\n",
              "      <button class=\"colab-df-convert\" onclick=\"convertToInteractive('df-629d25ec-3ddf-48e1-8fed-c471e6b9dcdf')\"\n",
              "              title=\"Convert this dataframe to an interactive table.\"\n",
              "              style=\"display:none;\">\n",
              "        \n",
              "  <svg xmlns=\"http://www.w3.org/2000/svg\" height=\"24px\"viewBox=\"0 0 24 24\"\n",
              "       width=\"24px\">\n",
              "    <path d=\"M0 0h24v24H0V0z\" fill=\"none\"/>\n",
              "    <path d=\"M18.56 5.44l.94 2.06.94-2.06 2.06-.94-2.06-.94-.94-2.06-.94 2.06-2.06.94zm-11 1L8.5 8.5l.94-2.06 2.06-.94-2.06-.94L8.5 2.5l-.94 2.06-2.06.94zm10 10l.94 2.06.94-2.06 2.06-.94-2.06-.94-.94-2.06-.94 2.06-2.06.94z\"/><path d=\"M17.41 7.96l-1.37-1.37c-.4-.4-.92-.59-1.43-.59-.52 0-1.04.2-1.43.59L10.3 9.45l-7.72 7.72c-.78.78-.78 2.05 0 2.83L4 21.41c.39.39.9.59 1.41.59.51 0 1.02-.2 1.41-.59l7.78-7.78 2.81-2.81c.8-.78.8-2.07 0-2.86zM5.41 20L4 18.59l7.72-7.72 1.47 1.35L5.41 20z\"/>\n",
              "  </svg>\n",
              "      </button>\n",
              "      \n",
              "  <style>\n",
              "    .colab-df-container {\n",
              "      display:flex;\n",
              "      flex-wrap:wrap;\n",
              "      gap: 12px;\n",
              "    }\n",
              "\n",
              "    .colab-df-convert {\n",
              "      background-color: #E8F0FE;\n",
              "      border: none;\n",
              "      border-radius: 50%;\n",
              "      cursor: pointer;\n",
              "      display: none;\n",
              "      fill: #1967D2;\n",
              "      height: 32px;\n",
              "      padding: 0 0 0 0;\n",
              "      width: 32px;\n",
              "    }\n",
              "\n",
              "    .colab-df-convert:hover {\n",
              "      background-color: #E2EBFA;\n",
              "      box-shadow: 0px 1px 2px rgba(60, 64, 67, 0.3), 0px 1px 3px 1px rgba(60, 64, 67, 0.15);\n",
              "      fill: #174EA6;\n",
              "    }\n",
              "\n",
              "    [theme=dark] .colab-df-convert {\n",
              "      background-color: #3B4455;\n",
              "      fill: #D2E3FC;\n",
              "    }\n",
              "\n",
              "    [theme=dark] .colab-df-convert:hover {\n",
              "      background-color: #434B5C;\n",
              "      box-shadow: 0px 1px 3px 1px rgba(0, 0, 0, 0.15);\n",
              "      filter: drop-shadow(0px 1px 2px rgba(0, 0, 0, 0.3));\n",
              "      fill: #FFFFFF;\n",
              "    }\n",
              "  </style>\n",
              "\n",
              "      <script>\n",
              "        const buttonEl =\n",
              "          document.querySelector('#df-629d25ec-3ddf-48e1-8fed-c471e6b9dcdf button.colab-df-convert');\n",
              "        buttonEl.style.display =\n",
              "          google.colab.kernel.accessAllowed ? 'block' : 'none';\n",
              "\n",
              "        async function convertToInteractive(key) {\n",
              "          const element = document.querySelector('#df-629d25ec-3ddf-48e1-8fed-c471e6b9dcdf');\n",
              "          const dataTable =\n",
              "            await google.colab.kernel.invokeFunction('convertToInteractive',\n",
              "                                                     [key], {});\n",
              "          if (!dataTable) return;\n",
              "\n",
              "          const docLinkHtml = 'Like what you see? Visit the ' +\n",
              "            '<a target=\"_blank\" href=https://colab.research.google.com/notebooks/data_table.ipynb>data table notebook</a>'\n",
              "            + ' to learn more about interactive tables.';\n",
              "          element.innerHTML = '';\n",
              "          dataTable['output_type'] = 'display_data';\n",
              "          await google.colab.output.renderOutput(dataTable, element);\n",
              "          const docLink = document.createElement('div');\n",
              "          docLink.innerHTML = docLinkHtml;\n",
              "          element.appendChild(docLink);\n",
              "        }\n",
              "      </script>\n",
              "    </div>\n",
              "  </div>\n",
              "  "
            ]
          },
          "metadata": {},
          "execution_count": 31
        }
      ]
    },
    {
      "cell_type": "code",
      "metadata": {
        "colab": {
          "base_uri": "https://localhost:8080/"
        },
        "id": "ZrslDLESShr7",
        "outputId": "65853b5d-3a75-4be1-c3e4-c30175a29861"
      },
      "source": [
        "data.columns"
      ],
      "execution_count": 32,
      "outputs": [
        {
          "output_type": "execute_result",
          "data": {
            "text/plain": [
              "Index(['Pregnancies', 'Glucose', 'BloodPressure', 'SkinThickness', 'Insulin',\n",
              "       'BMI', 'DiabetesPedigreeFunction', 'Age', 'Outcome'],\n",
              "      dtype='object')"
            ]
          },
          "metadata": {},
          "execution_count": 32
        }
      ]
    },
    {
      "cell_type": "code",
      "metadata": {
        "colab": {
          "base_uri": "https://localhost:8080/"
        },
        "id": "BLElehZ-Skgq",
        "outputId": "08de318f-b4a0-418d-b852-cd48ead7519b"
      },
      "source": [
        "data.values"
      ],
      "execution_count": 33,
      "outputs": [
        {
          "output_type": "execute_result",
          "data": {
            "text/plain": [
              "array([[  6.   , 148.   ,  72.   , ...,   0.627,  50.   ,   1.   ],\n",
              "       [  1.   ,  85.   ,  66.   , ...,   0.351,  31.   ,   0.   ],\n",
              "       [  8.   , 183.   ,  64.   , ...,   0.672,  32.   ,   1.   ],\n",
              "       ...,\n",
              "       [  5.   , 121.   ,  72.   , ...,   0.245,  30.   ,   0.   ],\n",
              "       [  1.   , 126.   ,  60.   , ...,   0.349,  47.   ,   1.   ],\n",
              "       [  1.   ,  93.   ,  70.   , ...,   0.315,  23.   ,   0.   ]])"
            ]
          },
          "metadata": {},
          "execution_count": 33
        }
      ]
    },
    {
      "cell_type": "markdown",
      "metadata": {
        "id": "2HnZxGc4ZQlf"
      },
      "source": [
        "**4. Store the data into input feature and label variables**"
      ]
    },
    {
      "cell_type": "code",
      "metadata": {
        "colab": {
          "base_uri": "https://localhost:8080/"
        },
        "id": "IPfA5BF0Sm4R",
        "outputId": "c824aff6-5af9-4d14-f16c-3b07b90115fa"
      },
      "source": [
        "dataset= data.values\n",
        "X = dataset[:,0:8]\n",
        "Y = dataset[:,8]\n",
        "print(X)\n",
        "print(Y)"
      ],
      "execution_count": 34,
      "outputs": [
        {
          "output_type": "stream",
          "name": "stdout",
          "text": [
            "[[  6.    148.     72.    ...  33.6     0.627  50.   ]\n",
            " [  1.     85.     66.    ...  26.6     0.351  31.   ]\n",
            " [  8.    183.     64.    ...  23.3     0.672  32.   ]\n",
            " ...\n",
            " [  5.    121.     72.    ...  26.2     0.245  30.   ]\n",
            " [  1.    126.     60.    ...  30.1     0.349  47.   ]\n",
            " [  1.     93.     70.    ...  30.4     0.315  23.   ]]\n",
            "[1. 0. 1. 0. 1. 0. 1. 0. 1. 1. 0. 1. 0. 1. 1. 1. 1. 1. 0. 1. 0. 0. 1. 1.\n",
            " 1. 1. 1. 0. 0. 0. 0. 1. 0. 0. 0. 0. 0. 1. 1. 1. 0. 0. 0. 1. 0. 1. 0. 0.\n",
            " 1. 0. 0. 0. 0. 1. 0. 0. 1. 0. 0. 0. 0. 1. 0. 0. 1. 0. 1. 0. 0. 0. 1. 0.\n",
            " 1. 0. 0. 0. 0. 0. 1. 0. 0. 0. 0. 0. 1. 0. 0. 0. 1. 0. 0. 0. 0. 1. 0. 0.\n",
            " 0. 0. 0. 1. 1. 0. 0. 0. 0. 0. 0. 0. 0. 1. 1. 1. 0. 0. 1. 1. 1. 0. 0. 0.\n",
            " 1. 0. 0. 0. 1. 1. 0. 0. 1. 1. 1. 1. 1. 0. 0. 0. 0. 0. 0. 0. 0. 0. 0. 1.\n",
            " 0. 0. 0. 0. 0. 0. 0. 0. 1. 0. 1. 1. 0. 0. 0. 1. 0. 0. 0. 0. 1. 1. 0. 0.\n",
            " 0. 0. 1. 1. 0. 0. 0. 1. 0. 1. 0. 1. 0. 0. 0. 0. 0. 1. 1. 1. 1. 1. 0. 0.\n",
            " 1. 1. 0. 1. 0. 1. 1. 1. 0. 0. 0. 0. 0. 0. 1. 1. 0. 1. 0. 0. 0. 1. 1. 1.\n",
            " 1. 0. 1. 1. 1. 1. 0. 0. 0. 0. 0. 1. 0. 0. 1. 1. 0. 0. 0. 1. 1. 1. 1. 0.\n",
            " 0. 0. 1. 1. 0. 1. 0. 0. 0. 0. 0. 0. 0. 0. 1. 1. 0. 0. 0. 1. 0. 1. 0. 0.\n",
            " 1. 0. 1. 0. 0. 1. 1. 0. 0. 0. 0. 0. 1. 0. 0. 0. 1. 0. 0. 1. 1. 0. 0. 1.\n",
            " 0. 0. 0. 1. 1. 1. 0. 0. 1. 0. 1. 0. 1. 1. 0. 1. 0. 0. 1. 0. 1. 1. 0. 0.\n",
            " 1. 0. 1. 0. 0. 1. 0. 1. 0. 1. 1. 1. 0. 0. 1. 0. 1. 0. 0. 0. 1. 0. 0. 0.\n",
            " 0. 1. 1. 1. 0. 0. 0. 0. 0. 0. 0. 0. 0. 1. 0. 0. 0. 0. 0. 1. 1. 1. 0. 1.\n",
            " 1. 0. 0. 1. 0. 0. 1. 0. 0. 1. 1. 0. 0. 0. 0. 1. 0. 0. 1. 0. 0. 0. 0. 0.\n",
            " 0. 0. 1. 1. 1. 0. 0. 1. 0. 0. 1. 0. 0. 1. 0. 1. 1. 0. 1. 0. 1. 0. 1. 0.\n",
            " 1. 1. 0. 0. 0. 0. 1. 1. 0. 1. 0. 1. 0. 0. 0. 0. 1. 1. 0. 1. 0. 1. 0. 0.\n",
            " 0. 0. 0. 1. 0. 0. 0. 0. 1. 0. 0. 1. 1. 1. 0. 0. 1. 0. 0. 1. 0. 0. 0. 1.\n",
            " 0. 0. 1. 0. 0. 0. 0. 0. 0. 0. 0. 0. 1. 0. 0. 0. 0. 0. 0. 0. 1. 0. 0. 0.\n",
            " 1. 0. 0. 0. 1. 1. 0. 0. 0. 0. 0. 0. 0. 1. 0. 0. 0. 0. 1. 0. 0. 0. 1. 0.\n",
            " 0. 0. 1. 0. 0. 0. 1. 0. 0. 0. 0. 1. 1. 0. 0. 0. 0. 0. 0. 1. 0. 0. 0. 0.\n",
            " 0. 0. 0. 0. 0. 0. 0. 1. 0. 0. 0. 1. 1. 1. 1. 0. 0. 1. 1. 0. 0. 0. 0. 0.\n",
            " 0. 0. 0. 0. 0. 0. 0. 0. 1. 1. 0. 0. 0. 0. 0. 0. 0. 1. 0. 0. 0. 0. 0. 0.\n",
            " 0. 1. 0. 1. 1. 0. 0. 0. 1. 0. 1. 0. 1. 0. 1. 0. 1. 0. 0. 1. 0. 0. 1. 0.\n",
            " 0. 0. 0. 1. 1. 0. 1. 0. 0. 0. 0. 1. 1. 0. 1. 0. 0. 0. 1. 1. 0. 0. 0. 0.\n",
            " 0. 0. 0. 0. 0. 0. 1. 0. 0. 0. 0. 1. 0. 0. 1. 0. 0. 0. 1. 0. 0. 0. 1. 1.\n",
            " 1. 0. 0. 0. 0. 0. 0. 1. 0. 0. 0. 1. 0. 1. 1. 1. 1. 0. 1. 1. 0. 0. 0. 0.\n",
            " 0. 0. 0. 1. 1. 0. 1. 0. 0. 1. 0. 1. 0. 0. 0. 0. 0. 1. 0. 1. 0. 1. 0. 1.\n",
            " 1. 0. 0. 0. 0. 1. 1. 0. 0. 0. 1. 0. 1. 1. 0. 0. 1. 0. 0. 1. 1. 0. 0. 1.\n",
            " 0. 0. 1. 0. 0. 0. 0. 0. 0. 0. 1. 1. 1. 0. 0. 0. 0. 0. 0. 1. 1. 0. 0. 1.\n",
            " 0. 0. 1. 0. 1. 1. 1. 0. 0. 1. 1. 1. 0. 1. 0. 1. 0. 1. 0. 0. 0. 0. 1. 0.]\n"
          ]
        }
      ]
    },
    {
      "cell_type": "markdown",
      "metadata": {
        "id": "OdPZerNUZV4Q"
      },
      "source": [
        "**5. Data Normalization**"
      ]
    },
    {
      "cell_type": "code",
      "metadata": {
        "colab": {
          "base_uri": "https://localhost:8080/"
        },
        "id": "pM4g3T1fWri-",
        "outputId": "e873576a-0dc2-4be9-b748-977760fda437"
      },
      "source": [
        "from sklearn import preprocessing\n",
        "min_max_scaler = preprocessing.MinMaxScaler()\n",
        "X_scale = min_max_scaler.fit_transform(X)\n",
        "X_scale"
      ],
      "execution_count": 35,
      "outputs": [
        {
          "output_type": "execute_result",
          "data": {
            "text/plain": [
              "array([[0.35294118, 0.74371859, 0.59016393, ..., 0.50074516, 0.23441503,\n",
              "        0.48333333],\n",
              "       [0.05882353, 0.42713568, 0.54098361, ..., 0.39642325, 0.11656704,\n",
              "        0.16666667],\n",
              "       [0.47058824, 0.91959799, 0.52459016, ..., 0.34724292, 0.25362938,\n",
              "        0.18333333],\n",
              "       ...,\n",
              "       [0.29411765, 0.6080402 , 0.59016393, ..., 0.390462  , 0.07130658,\n",
              "        0.15      ],\n",
              "       [0.05882353, 0.63316583, 0.49180328, ..., 0.4485842 , 0.11571307,\n",
              "        0.43333333],\n",
              "       [0.05882353, 0.46733668, 0.57377049, ..., 0.45305514, 0.10119556,\n",
              "        0.03333333]])"
            ]
          },
          "metadata": {},
          "execution_count": 35
        }
      ]
    },
    {
      "cell_type": "markdown",
      "metadata": {
        "id": "n1B5x8C0ZY-e"
      },
      "source": [
        "**6. One-hot vector conversion**"
      ]
    },
    {
      "cell_type": "code",
      "metadata": {
        "colab": {
          "base_uri": "https://localhost:8080/"
        },
        "id": "IWPUAnA-XNd8",
        "outputId": "41986c24-72d3-4ffa-c308-ba885f6f274d"
      },
      "source": [
        "from keras.utils import np_utils\n",
        "encoded_y = np_utils.to_categorical(Y)\n",
        "encoded_y    #one hot encoding"
      ],
      "execution_count": 36,
      "outputs": [
        {
          "output_type": "execute_result",
          "data": {
            "text/plain": [
              "array([[0., 1.],\n",
              "       [1., 0.],\n",
              "       [0., 1.],\n",
              "       ...,\n",
              "       [1., 0.],\n",
              "       [0., 1.],\n",
              "       [1., 0.]], dtype=float32)"
            ]
          },
          "metadata": {},
          "execution_count": 36
        }
      ]
    },
    {
      "cell_type": "markdown",
      "metadata": {
        "id": "IeJWmMxjZbgo"
      },
      "source": [
        "**7. Split the dataset into training, testing and validation set**"
      ]
    },
    {
      "cell_type": "code",
      "metadata": {
        "colab": {
          "base_uri": "https://localhost:8080/"
        },
        "id": "3BqXnV1FXYIV",
        "outputId": "d0f54f3c-cde8-4747-aca1-e36333bf586d"
      },
      "source": [
        "from sklearn.model_selection import train_test_split\n",
        "X_training, X_testing, Y_training, Y_testing = train_test_split(X_scale, encoded_y, test_size=2, random_state=10)\n",
        "X_training, X_valid, Y_training, Y_valid = train_test_split(X_training, Y_training, test_size=2, random_state=10)\n",
        "print(len(X_training))\n",
        "print(len(X_testing))\n",
        "print(len(X_valid))"
      ],
      "execution_count": 37,
      "outputs": [
        {
          "output_type": "stream",
          "name": "stdout",
          "text": [
            "764\n",
            "2\n",
            "2\n"
          ]
        }
      ]
    },
    {
      "cell_type": "markdown",
      "metadata": {
        "id": "EH9IZizVZfKB"
      },
      "source": [
        "**8. Model Creation**"
      ]
    },
    {
      "cell_type": "code",
      "metadata": {
        "id": "hNfmvbMOXeku",
        "colab": {
          "base_uri": "https://localhost:8080/"
        },
        "outputId": "737231b1-d9a7-4843-c8d8-610648c221ec"
      },
      "source": [
        "from keras.models import Sequential\n",
        "from keras.layers import Dense\n",
        "\n",
        "# Creating the model\n",
        "model = Sequential()  #sequential is a model\n",
        "model.add(Dense(26, input_shape=(8,), activation='relu'))\n",
        "model.add(Dense(15, activation='relu'))\n",
        "model.add(Dense(15, activation='tanh'))\n",
        "# model.add(Dense(8, activation='relu'))   \n",
        "model.add(Dense(2, activation='softmax'))\n",
        "model.summary()   #gives a summary of the model"
      ],
      "execution_count": 38,
      "outputs": [
        {
          "output_type": "stream",
          "name": "stdout",
          "text": [
            "Model: \"sequential_4\"\n",
            "_________________________________________________________________\n",
            " Layer (type)                Output Shape              Param #   \n",
            "=================================================================\n",
            " dense_17 (Dense)            (None, 26)                234       \n",
            "                                                                 \n",
            " dense_18 (Dense)            (None, 15)                405       \n",
            "                                                                 \n",
            " dense_19 (Dense)            (None, 15)                240       \n",
            "                                                                 \n",
            " dense_20 (Dense)            (None, 2)                 32        \n",
            "                                                                 \n",
            "=================================================================\n",
            "Total params: 911\n",
            "Trainable params: 911\n",
            "Non-trainable params: 0\n",
            "_________________________________________________________________\n"
          ]
        }
      ]
    },
    {
      "cell_type": "markdown",
      "metadata": {
        "id": "iYxZHI_EZiEF"
      },
      "source": [
        "**9. Model Compile**"
      ]
    },
    {
      "cell_type": "code",
      "metadata": {
        "id": "plF2qlxwXiIY"
      },
      "source": [
        "from tensorflow.keras import optimizers\n",
        "opt=optimizers.SGD(learning_rate=0.01)\n",
        "model.compile(loss='categorical_crossentropy', optimizer=opt, metrics=['accuracy'])"
      ],
      "execution_count": 46,
      "outputs": []
    },
    {
      "cell_type": "markdown",
      "metadata": {
        "id": "E8VrUFVQZkNd"
      },
      "source": [
        "**10. Model Training**"
      ]
    },
    {
      "cell_type": "markdown",
      "source": [
        "if you have 1000 training examples, and your batch size is  500, then it will take 2 iterations to complete 1 epoch."
      ],
      "metadata": {
        "id": "08Ul5lN90_Sp"
      }
    },
    {
      "cell_type": "code",
      "metadata": {
        "colab": {
          "base_uri": "https://localhost:8080/"
        },
        "id": "xhDZ8yPhXrs0",
        "outputId": "be677a30-0929-4aab-936d-e7f9af24c83e"
      },
      "source": [
        "hist = model.fit(X_training, Y_training,batch_size=2,  epochs=80, validation_data=(X_valid,Y_valid))"
      ],
      "execution_count": 45,
      "outputs": [
        {
          "output_type": "stream",
          "name": "stdout",
          "text": [
            "Epoch 1/80\n",
            "382/382 [==============================] - 1s 2ms/step - loss: 0.3534 - accuracy: 0.8312 - val_loss: 0.1523 - val_accuracy: 1.0000\n",
            "Epoch 2/80\n",
            "382/382 [==============================] - 1s 1ms/step - loss: 0.3512 - accuracy: 0.8521 - val_loss: 0.0906 - val_accuracy: 1.0000\n",
            "Epoch 3/80\n",
            "382/382 [==============================] - 1s 1ms/step - loss: 0.3614 - accuracy: 0.8377 - val_loss: 0.2686 - val_accuracy: 1.0000\n",
            "Epoch 4/80\n",
            "382/382 [==============================] - 1s 1ms/step - loss: 0.3516 - accuracy: 0.8351 - val_loss: 0.1929 - val_accuracy: 1.0000\n",
            "Epoch 5/80\n",
            "382/382 [==============================] - 1s 2ms/step - loss: 0.3487 - accuracy: 0.8613 - val_loss: 0.2449 - val_accuracy: 1.0000\n",
            "Epoch 6/80\n",
            "382/382 [==============================] - 1s 1ms/step - loss: 0.3625 - accuracy: 0.8364 - val_loss: 0.1860 - val_accuracy: 1.0000\n",
            "Epoch 7/80\n",
            "382/382 [==============================] - 1s 2ms/step - loss: 0.3591 - accuracy: 0.8429 - val_loss: 0.1543 - val_accuracy: 1.0000\n",
            "Epoch 8/80\n",
            "382/382 [==============================] - 1s 1ms/step - loss: 0.3458 - accuracy: 0.8469 - val_loss: 0.9986 - val_accuracy: 0.0000e+00\n",
            "Epoch 9/80\n",
            "382/382 [==============================] - 1s 1ms/step - loss: 0.3593 - accuracy: 0.8325 - val_loss: 0.2001 - val_accuracy: 1.0000\n",
            "Epoch 10/80\n",
            "382/382 [==============================] - 1s 2ms/step - loss: 0.3566 - accuracy: 0.8338 - val_loss: 0.1951 - val_accuracy: 1.0000\n",
            "Epoch 11/80\n",
            "382/382 [==============================] - 1s 2ms/step - loss: 0.3557 - accuracy: 0.8495 - val_loss: 0.1501 - val_accuracy: 1.0000\n",
            "Epoch 12/80\n",
            "382/382 [==============================] - 1s 1ms/step - loss: 0.3513 - accuracy: 0.8469 - val_loss: 0.4725 - val_accuracy: 1.0000\n",
            "Epoch 13/80\n",
            "382/382 [==============================] - 1s 1ms/step - loss: 0.3511 - accuracy: 0.8416 - val_loss: 0.1055 - val_accuracy: 1.0000\n",
            "Epoch 14/80\n",
            "382/382 [==============================] - 1s 1ms/step - loss: 0.3466 - accuracy: 0.8586 - val_loss: 0.1094 - val_accuracy: 1.0000\n",
            "Epoch 15/80\n",
            "382/382 [==============================] - 1s 1ms/step - loss: 0.3479 - accuracy: 0.8573 - val_loss: 0.4550 - val_accuracy: 1.0000\n",
            "Epoch 16/80\n",
            "382/382 [==============================] - 1s 1ms/step - loss: 0.3453 - accuracy: 0.8364 - val_loss: 0.1460 - val_accuracy: 1.0000\n",
            "Epoch 17/80\n",
            "382/382 [==============================] - 1s 1ms/step - loss: 0.3530 - accuracy: 0.8377 - val_loss: 0.1924 - val_accuracy: 1.0000\n",
            "Epoch 18/80\n",
            "382/382 [==============================] - 1s 1ms/step - loss: 0.3445 - accuracy: 0.8560 - val_loss: 0.1843 - val_accuracy: 1.0000\n",
            "Epoch 19/80\n",
            "382/382 [==============================] - 1s 2ms/step - loss: 0.3503 - accuracy: 0.8390 - val_loss: 0.3349 - val_accuracy: 1.0000\n",
            "Epoch 20/80\n",
            "382/382 [==============================] - 1s 1ms/step - loss: 0.3428 - accuracy: 0.8495 - val_loss: 0.2719 - val_accuracy: 1.0000\n",
            "Epoch 21/80\n",
            "382/382 [==============================] - 1s 1ms/step - loss: 0.3530 - accuracy: 0.8416 - val_loss: 0.1232 - val_accuracy: 1.0000\n",
            "Epoch 22/80\n",
            "382/382 [==============================] - 1s 1ms/step - loss: 0.3477 - accuracy: 0.8364 - val_loss: 0.1745 - val_accuracy: 1.0000\n",
            "Epoch 23/80\n",
            "382/382 [==============================] - 1s 1ms/step - loss: 0.3429 - accuracy: 0.8508 - val_loss: 0.2217 - val_accuracy: 1.0000\n",
            "Epoch 24/80\n",
            "382/382 [==============================] - 1s 2ms/step - loss: 0.3431 - accuracy: 0.8626 - val_loss: 0.1188 - val_accuracy: 1.0000\n",
            "Epoch 25/80\n",
            "382/382 [==============================] - 1s 2ms/step - loss: 0.3516 - accuracy: 0.8416 - val_loss: 0.1064 - val_accuracy: 1.0000\n",
            "Epoch 26/80\n",
            "382/382 [==============================] - 1s 2ms/step - loss: 0.3529 - accuracy: 0.8442 - val_loss: 0.1458 - val_accuracy: 1.0000\n",
            "Epoch 27/80\n",
            "382/382 [==============================] - 1s 2ms/step - loss: 0.3418 - accuracy: 0.8613 - val_loss: 0.0837 - val_accuracy: 1.0000\n",
            "Epoch 28/80\n",
            "382/382 [==============================] - 1s 1ms/step - loss: 0.3477 - accuracy: 0.8416 - val_loss: 0.0991 - val_accuracy: 1.0000\n",
            "Epoch 29/80\n",
            "382/382 [==============================] - 1s 1ms/step - loss: 0.3445 - accuracy: 0.8508 - val_loss: 0.3627 - val_accuracy: 1.0000\n",
            "Epoch 30/80\n",
            "382/382 [==============================] - 1s 2ms/step - loss: 0.3512 - accuracy: 0.8455 - val_loss: 0.1115 - val_accuracy: 1.0000\n",
            "Epoch 31/80\n",
            "382/382 [==============================] - 1s 2ms/step - loss: 0.3524 - accuracy: 0.8469 - val_loss: 0.1121 - val_accuracy: 1.0000\n",
            "Epoch 32/80\n",
            "382/382 [==============================] - 1s 2ms/step - loss: 0.3466 - accuracy: 0.8547 - val_loss: 0.1850 - val_accuracy: 1.0000\n",
            "Epoch 33/80\n",
            "382/382 [==============================] - 1s 1ms/step - loss: 0.3490 - accuracy: 0.8534 - val_loss: 0.1919 - val_accuracy: 1.0000\n",
            "Epoch 34/80\n",
            "382/382 [==============================] - 1s 1ms/step - loss: 0.3432 - accuracy: 0.8482 - val_loss: 0.0995 - val_accuracy: 1.0000\n",
            "Epoch 35/80\n",
            "382/382 [==============================] - 1s 2ms/step - loss: 0.3465 - accuracy: 0.8442 - val_loss: 0.2152 - val_accuracy: 1.0000\n",
            "Epoch 36/80\n",
            "382/382 [==============================] - 1s 1ms/step - loss: 0.3436 - accuracy: 0.8482 - val_loss: 0.2974 - val_accuracy: 1.0000\n",
            "Epoch 37/80\n",
            "382/382 [==============================] - 1s 1ms/step - loss: 0.3355 - accuracy: 0.8573 - val_loss: 0.1144 - val_accuracy: 1.0000\n",
            "Epoch 38/80\n",
            "382/382 [==============================] - 1s 2ms/step - loss: 0.3446 - accuracy: 0.8521 - val_loss: 0.1559 - val_accuracy: 1.0000\n",
            "Epoch 39/80\n",
            "382/382 [==============================] - 1s 1ms/step - loss: 0.3367 - accuracy: 0.8547 - val_loss: 0.2529 - val_accuracy: 1.0000\n",
            "Epoch 40/80\n",
            "382/382 [==============================] - 1s 2ms/step - loss: 0.3443 - accuracy: 0.8429 - val_loss: 0.2087 - val_accuracy: 1.0000\n",
            "Epoch 41/80\n",
            "382/382 [==============================] - 1s 2ms/step - loss: 0.3312 - accuracy: 0.8469 - val_loss: 0.1293 - val_accuracy: 1.0000\n",
            "Epoch 42/80\n",
            "382/382 [==============================] - 1s 2ms/step - loss: 0.3396 - accuracy: 0.8573 - val_loss: 0.2531 - val_accuracy: 1.0000\n",
            "Epoch 43/80\n",
            "382/382 [==============================] - 1s 2ms/step - loss: 0.3462 - accuracy: 0.8508 - val_loss: 0.1320 - val_accuracy: 1.0000\n",
            "Epoch 44/80\n",
            "382/382 [==============================] - 1s 2ms/step - loss: 0.3328 - accuracy: 0.8613 - val_loss: 0.1039 - val_accuracy: 1.0000\n",
            "Epoch 45/80\n",
            "382/382 [==============================] - 1s 1ms/step - loss: 0.3409 - accuracy: 0.8534 - val_loss: 0.1430 - val_accuracy: 1.0000\n",
            "Epoch 46/80\n",
            "382/382 [==============================] - 1s 1ms/step - loss: 0.3284 - accuracy: 0.8469 - val_loss: 0.2091 - val_accuracy: 1.0000\n",
            "Epoch 47/80\n",
            "382/382 [==============================] - 1s 1ms/step - loss: 0.3374 - accuracy: 0.8521 - val_loss: 0.1496 - val_accuracy: 1.0000\n",
            "Epoch 48/80\n",
            "382/382 [==============================] - 1s 2ms/step - loss: 0.3340 - accuracy: 0.8626 - val_loss: 0.2601 - val_accuracy: 1.0000\n",
            "Epoch 49/80\n",
            "382/382 [==============================] - 1s 2ms/step - loss: 0.3346 - accuracy: 0.8534 - val_loss: 0.2262 - val_accuracy: 1.0000\n",
            "Epoch 50/80\n",
            "382/382 [==============================] - 1s 2ms/step - loss: 0.3384 - accuracy: 0.8547 - val_loss: 0.2111 - val_accuracy: 1.0000\n",
            "Epoch 51/80\n",
            "382/382 [==============================] - 1s 2ms/step - loss: 0.3263 - accuracy: 0.8665 - val_loss: 0.4804 - val_accuracy: 0.5000\n",
            "Epoch 52/80\n",
            "382/382 [==============================] - 1s 2ms/step - loss: 0.3413 - accuracy: 0.8351 - val_loss: 0.1780 - val_accuracy: 1.0000\n",
            "Epoch 53/80\n",
            "382/382 [==============================] - 1s 1ms/step - loss: 0.3376 - accuracy: 0.8495 - val_loss: 0.2600 - val_accuracy: 1.0000\n",
            "Epoch 54/80\n",
            "382/382 [==============================] - 1s 1ms/step - loss: 0.3450 - accuracy: 0.8390 - val_loss: 0.2195 - val_accuracy: 1.0000\n",
            "Epoch 55/80\n",
            "382/382 [==============================] - 1s 2ms/step - loss: 0.3331 - accuracy: 0.8626 - val_loss: 0.2027 - val_accuracy: 1.0000\n",
            "Epoch 56/80\n",
            "382/382 [==============================] - 1s 2ms/step - loss: 0.3316 - accuracy: 0.8521 - val_loss: 0.2508 - val_accuracy: 1.0000\n",
            "Epoch 57/80\n",
            "382/382 [==============================] - 1s 2ms/step - loss: 0.3187 - accuracy: 0.8560 - val_loss: 0.1279 - val_accuracy: 1.0000\n",
            "Epoch 58/80\n",
            "382/382 [==============================] - 1s 1ms/step - loss: 0.3322 - accuracy: 0.8586 - val_loss: 0.1868 - val_accuracy: 1.0000\n",
            "Epoch 59/80\n",
            "382/382 [==============================] - 1s 1ms/step - loss: 0.3287 - accuracy: 0.8599 - val_loss: 0.4280 - val_accuracy: 0.5000\n",
            "Epoch 60/80\n",
            "382/382 [==============================] - 1s 1ms/step - loss: 0.3270 - accuracy: 0.8573 - val_loss: 0.1497 - val_accuracy: 1.0000\n",
            "Epoch 61/80\n",
            "382/382 [==============================] - 1s 1ms/step - loss: 0.3142 - accuracy: 0.8626 - val_loss: 0.7415 - val_accuracy: 0.5000\n",
            "Epoch 62/80\n",
            "382/382 [==============================] - 1s 2ms/step - loss: 0.3307 - accuracy: 0.8560 - val_loss: 0.3601 - val_accuracy: 1.0000\n",
            "Epoch 63/80\n",
            "382/382 [==============================] - 1s 2ms/step - loss: 0.3275 - accuracy: 0.8573 - val_loss: 0.1511 - val_accuracy: 1.0000\n",
            "Epoch 64/80\n",
            "382/382 [==============================] - 1s 2ms/step - loss: 0.3207 - accuracy: 0.8613 - val_loss: 0.1066 - val_accuracy: 1.0000\n",
            "Epoch 65/80\n",
            "382/382 [==============================] - 1s 2ms/step - loss: 0.3220 - accuracy: 0.8586 - val_loss: 0.3221 - val_accuracy: 1.0000\n",
            "Epoch 66/80\n",
            "382/382 [==============================] - 1s 2ms/step - loss: 0.3358 - accuracy: 0.8508 - val_loss: 0.2308 - val_accuracy: 1.0000\n",
            "Epoch 67/80\n",
            "382/382 [==============================] - 1s 2ms/step - loss: 0.3172 - accuracy: 0.8599 - val_loss: 0.3333 - val_accuracy: 1.0000\n",
            "Epoch 68/80\n",
            "382/382 [==============================] - 1s 2ms/step - loss: 0.3255 - accuracy: 0.8586 - val_loss: 0.2362 - val_accuracy: 1.0000\n",
            "Epoch 69/80\n",
            "382/382 [==============================] - 1s 2ms/step - loss: 0.3208 - accuracy: 0.8547 - val_loss: 0.1889 - val_accuracy: 1.0000\n",
            "Epoch 70/80\n",
            "382/382 [==============================] - 1s 2ms/step - loss: 0.3200 - accuracy: 0.8586 - val_loss: 0.0999 - val_accuracy: 1.0000\n",
            "Epoch 71/80\n",
            "382/382 [==============================] - 1s 2ms/step - loss: 0.3179 - accuracy: 0.8586 - val_loss: 0.3303 - val_accuracy: 1.0000\n",
            "Epoch 72/80\n",
            "382/382 [==============================] - 1s 1ms/step - loss: 0.3319 - accuracy: 0.8586 - val_loss: 0.2858 - val_accuracy: 1.0000\n",
            "Epoch 73/80\n",
            "382/382 [==============================] - 1s 1ms/step - loss: 0.3240 - accuracy: 0.8639 - val_loss: 0.1624 - val_accuracy: 1.0000\n",
            "Epoch 74/80\n",
            "382/382 [==============================] - 1s 2ms/step - loss: 0.3166 - accuracy: 0.8639 - val_loss: 0.1493 - val_accuracy: 1.0000\n",
            "Epoch 75/80\n",
            "382/382 [==============================] - 1s 1ms/step - loss: 0.3218 - accuracy: 0.8482 - val_loss: 0.3293 - val_accuracy: 1.0000\n",
            "Epoch 76/80\n",
            "382/382 [==============================] - 1s 1ms/step - loss: 0.3197 - accuracy: 0.8613 - val_loss: 0.2483 - val_accuracy: 1.0000\n",
            "Epoch 77/80\n",
            "382/382 [==============================] - 1s 1ms/step - loss: 0.3343 - accuracy: 0.8560 - val_loss: 0.1234 - val_accuracy: 1.0000\n",
            "Epoch 78/80\n",
            "382/382 [==============================] - 1s 1ms/step - loss: 0.3127 - accuracy: 0.8573 - val_loss: 0.2135 - val_accuracy: 1.0000\n",
            "Epoch 79/80\n",
            "382/382 [==============================] - 1s 1ms/step - loss: 0.3262 - accuracy: 0.8586 - val_loss: 0.1523 - val_accuracy: 1.0000\n",
            "Epoch 80/80\n",
            "382/382 [==============================] - 1s 1ms/step - loss: 0.3232 - accuracy: 0.8469 - val_loss: 0.1607 - val_accuracy: 1.0000\n"
          ]
        }
      ]
    },
    {
      "cell_type": "markdown",
      "metadata": {
        "id": "80o1i3fzZsA-"
      },
      "source": [
        "**11. Plot the training loss and accuracy**"
      ]
    },
    {
      "cell_type": "code",
      "source": [
        "import matplotlib.pyplot as plt \n",
        "acc = hist.history['accuracy']\n",
        "val_acc = hist.history['val_accuracy']\n",
        "loss = hist.history['loss']\n",
        "val_loss = hist.history['val_loss']\n",
        " \n",
        "epochs = range(len(acc))\n",
        " \n",
        "plt.plot(epochs, acc, 'b', label='Training acc')\n",
        "plt.plot(epochs, val_acc, 'r', label='Validation acc')\n",
        "plt.title('Training and validation accuracy')\n",
        "plt.legend()\n",
        "plt.savefig('custom_trainvalacc.png')\n",
        "plt.figure()\n",
        " \n",
        "plt.plot(epochs, loss, 'b', label='Training loss')\n",
        "plt.plot(epochs, val_loss, 'r', label='Validation loss')\n",
        "plt.title('Training and validation loss')\n",
        "plt.legend()\n",
        " \n",
        "#plt.show()\n",
        "plt.savefig('custom_trainvalloss.png')\n",
        "plt.figure()"
      ],
      "metadata": {
        "colab": {
          "base_uri": "https://localhost:8080/",
          "height": 580
        },
        "id": "69dOEi6HAiXT",
        "outputId": "374639fc-0af7-464a-caba-3c865cc09f97"
      },
      "execution_count": 47,
      "outputs": [
        {
          "output_type": "execute_result",
          "data": {
            "text/plain": [
              "<Figure size 432x288 with 0 Axes>"
            ]
          },
          "metadata": {},
          "execution_count": 47
        },
        {
          "output_type": "display_data",
          "data": {
            "text/plain": [
              "<Figure size 432x288 with 1 Axes>"
            ],
            "image/png": "[encoded data removed]"
          },
          "metadata": {
            "needs_background": "light"
          }
        },
        {
          "output_type": "display_data",
          "data": {
            "text/plain": [
              "<Figure size 432x288 with 1 Axes>"
            ],
            "image/png": "[encoded data removed]"
          },
          "metadata": {
            "needs_background": "light"
          }
        },
        {
          "output_type": "display_data",
          "data": {
            "text/plain": [
              "<Figure size 432x288 with 0 Axes>"
            ]
          },
          "metadata": {}
        }
      ]
    },
    {
      "cell_type": "markdown",
      "metadata": {
        "id": "a8fUXoqeZvwf"
      },
      "source": [
        "**12. Evaluate the performance**"
      ]
    },
    {
      "cell_type": "code",
      "metadata": {
        "colab": {
          "base_uri": "https://localhost:8080/"
        },
        "id": "wawHhkURYMLE",
        "outputId": "7e135ad7-dab8-4f8e-a0d5-7faf33d7fcf0"
      },
      "source": [
        "res =model.evaluate(X_testing, Y_testing)"
      ],
      "execution_count": 42,
      "outputs": [
        {
          "output_type": "stream",
          "name": "stdout",
          "text": [
            "1/1 [==============================] - 0s 149ms/step - loss: 0.4108 - accuracy: 0.5000\n"
          ]
        }
      ]
    },
    {
      "cell_type": "markdown",
      "metadata": {
        "id": "0WCSw36oZyG_"
      },
      "source": [
        "**13. Predict on new datatset**\n"
      ]
    },
    {
      "cell_type": "code",
      "metadata": {
        "colab": {
          "base_uri": "https://localhost:8080/"
        },
        "id": "CcE27mGFYo3G",
        "outputId": "84e15f12-6214-47b4-c0dd-6983baa625cb"
      },
      "source": [
        "test=X_testing[0]\n",
        "y_act=Y_testing[0]\n",
        "result=model.predict(test.reshape(1,8))\n",
        "result"
      ],
      "execution_count": 43,
      "outputs": [
        {
          "output_type": "execute_result",
          "data": {
            "text/plain": [
              "array([[0.49960312, 0.50039685]], dtype=float32)"
            ]
          },
          "metadata": {},
          "execution_count": 43
        }
      ]
    },
    {
      "cell_type": "code",
      "metadata": {
        "colab": {
          "base_uri": "https://localhost:8080/"
        },
        "id": "T4RDC-ZHYqv_",
        "outputId": "208478cf-165a-4af7-bb0a-737a54d1d185"
      },
      "source": [
        "import numpy as np\n",
        "y_pred = np.round(result)\n",
        "print(\"Actual:\"+ str(y_act))\n",
        "print(\"Predicted:\"+str(y_pred))"
      ],
      "execution_count": 44,
      "outputs": [
        {
          "output_type": "stream",
          "name": "stdout",
          "text": [
            "Actual:[1. 0.]\n",
            "Predicted:[[0. 1.]]\n"
          ]
        }
      ]
    },
    {
      "cell_type": "markdown",
      "metadata": {
        "id": "E9mMqJtXYz2Q"
      },
      "source": [
        "**Reference:** - https://keras.io/"
      ]
    }
  ]
}